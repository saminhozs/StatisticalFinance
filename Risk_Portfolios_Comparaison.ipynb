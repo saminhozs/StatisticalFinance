{
  "nbformat": 4,
  "nbformat_minor": 0,
  "metadata": {
    "colab": {
      "provenance": [],
      "authorship_tag": "ABX9TyNy9uL8lWkewLAnRTgK7Z3m",
      "include_colab_link": true
    },
    "kernelspec": {
      "name": "python3",
      "display_name": "Python 3"
    },
    "language_info": {
      "name": "python"
    }
  },
  "cells": [
    {
      "cell_type": "markdown",
      "metadata": {
        "id": "view-in-github",
        "colab_type": "text"
      },
      "source": [
        "<a href=\"https://colab.research.google.com/github/saminhozs/StatisticalFinance/blob/main/Risk_Portfolios_Comparaison.ipynb\" target=\"_parent\"><img src=\"https://colab.research.google.com/assets/colab-badge.svg\" alt=\"Open In Colab\"/></a>"
      ]
    },
    {
      "cell_type": "code",
      "execution_count": 1,
      "metadata": {
        "id": "Twq7Z-RifP3G"
      },
      "outputs": [],
      "source": [
        "import pandas as pd\n",
        "import numpy as np\n",
        "import plotly.express as px\n",
        "import plotly.graph_objects as go\n",
        "from scipy.optimize import minimize, LinearConstraint, NonlinearConstraint\n",
        "import time\n",
        "import yfinance as yf\n",
        "import matplotlib.pyplot as plt"
      ]
    },
    {
      "cell_type": "code",
      "source": [
        "import warnings\n",
        "warnings.filterwarnings('ignore')\n",
        "\n",
        "pd.options.plotting.backend = 'plotly'"
      ],
      "metadata": {
        "id": "icJ90DLffTCf"
      },
      "execution_count": 2,
      "outputs": []
    },
    {
      "cell_type": "code",
      "source": [
        "prices = pd.read_excel(\"20210831 - SMI.xlsx\", sheet_name='RI M', index_col=0, parse_dates=True)\n",
        "returns = prices.pct_change()\n",
        "revenue = pd.read_excel(\"20210831 - SMI.xlsx\", sheet_name='REV', index_col=0, parse_dates=True).fillna(method='ffill') \n",
        "empl = pd.read_excel(\"20210831 - SMI.xlsx\", sheet_name='EMPL', index_col=0, parse_dates=True).fillna(method='ffill') \n",
        "market_cap = pd.read_excel(\"20210831 - SMI.xlsx\", sheet_name='MV M', index_col=0, parse_dates=True) \n",
        "PE_ratio = pd.read_excel(\"20210831 - SMI.xlsx\", sheet_name='PE', index_col=0, parse_dates=True) \n",
        "SMI_index = pd.read_excel(\"20210831 - SMI.xlsx\", sheet_name='OTHER M', index_col=0, parse_dates=True)[\"SWISS MARKET (SMI), total return\"]\n",
        "rf = pd.read_excel(\"20210831 - SMI.xlsx\", sheet_name='OTHER M', index_col=0, parse_dates=True)[\"IBA CHF IBK. LIBOR 1M\"]/1200"
      ],
      "metadata": {
        "id": "2Mv4wUWufWNV"
      },
      "execution_count": 3,
      "outputs": []
    },
    {
      "cell_type": "code",
      "source": [
        "#Equally Weighted\n",
        "\n",
        "wEW = pd.DataFrame(1, index = market_cap.index, columns = market_cap.columns)\n",
        "wEW = wEW.div(market_cap.notna().sum(axis=1), axis=0)\n",
        "wEW[market_cap.isnull()] = 0"
      ],
      "metadata": {
        "id": "tKTRv7S_fhe4"
      },
      "execution_count": 4,
      "outputs": []
    },
    {
      "cell_type": "code",
      "source": [
        "fig_weights = go.Figure()\n",
        "fig_weights.add_trace(go.Bar(x=wEW.columns, y=wEW.iloc[-1], name=\"Equal weights\"))\n",
        "fig_weights.show()"
      ],
      "metadata": {
        "colab": {
          "base_uri": "https://localhost:8080/",
          "height": 542
        },
        "id": "3CHYVGpGfh56",
        "outputId": "bae370db-c524-42c3-99b9-ba592f94ce0f"
      },
      "execution_count": 5,
      "outputs": [
        {
          "output_type": "display_data",
          "data": {
            "text/html": [
              "<html>\n",
              "<head><meta charset=\"utf-8\" /></head>\n",
              "<body>\n",
              "    <div>            <script src=\"https://cdnjs.cloudflare.com/ajax/libs/mathjax/2.7.5/MathJax.js?config=TeX-AMS-MML_SVG\"></script><script type=\"text/javascript\">if (window.MathJax && window.MathJax.Hub && window.MathJax.Hub.Config) {window.MathJax.Hub.Config({SVG: {font: \"STIX-Web\"}});}</script>                <script type=\"text/javascript\">window.PlotlyConfig = {MathJaxConfig: 'local'};</script>\n",
              "        <script src=\"https://cdn.plot.ly/plotly-2.18.2.min.js\"></script>                <div id=\"c18bbd0f-e377-48bc-804a-d793476a37bd\" class=\"plotly-graph-div\" style=\"height:525px; width:100%;\"></div>            <script type=\"text/javascript\">                                    window.PLOTLYENV=window.PLOTLYENV || {};                                    if (document.getElementById(\"c18bbd0f-e377-48bc-804a-d793476a37bd\")) {                    Plotly.newPlot(                        \"c18bbd0f-e377-48bc-804a-d793476a37bd\",                        [{\"name\":\"Equal weights\",\"x\":[\"SGS 'N'\",\"SWISSCOM 'R'\",\"GIVAUDAN 'N'\",\"ZURICH INSURANCE GROUP\",\"NOVARTIS 'R'\",\"ROCHE HOLDING\",\"CREDIT SUISSE GROUP\",\"HOLCIM\",\"ABB LTD N\",\"THE SWATCH GROUP\",\"LONZA GROUP\",\"SWISS LIFE HOLDING\",\"PARTNERS GROUP HOLDING\",\"GEBERIT 'R'\",\"NESTLE 'N'\",\"SWISS RE\",\"RICHEMONT N\",\"UBS GROUP\",\"SIKA\",\"ALCON (SWX) ORD SHS\"],\"y\":[0.05,0.05,0.05,0.05,0.05,0.05,0.05,0.05,0.05,0.05,0.05,0.05,0.05,0.05,0.05,0.05,0.05,0.05,0.05,0.05],\"type\":\"bar\"}],                        {\"template\":{\"data\":{\"histogram2dcontour\":[{\"type\":\"histogram2dcontour\",\"colorbar\":{\"outlinewidth\":0,\"ticks\":\"\"},\"colorscale\":[[0.0,\"#0d0887\"],[0.1111111111111111,\"#46039f\"],[0.2222222222222222,\"#7201a8\"],[0.3333333333333333,\"#9c179e\"],[0.4444444444444444,\"#bd3786\"],[0.5555555555555556,\"#d8576b\"],[0.6666666666666666,\"#ed7953\"],[0.7777777777777778,\"#fb9f3a\"],[0.8888888888888888,\"#fdca26\"],[1.0,\"#f0f921\"]]}],\"choropleth\":[{\"type\":\"choropleth\",\"colorbar\":{\"outlinewidth\":0,\"ticks\":\"\"}}],\"histogram2d\":[{\"type\":\"histogram2d\",\"colorbar\":{\"outlinewidth\":0,\"ticks\":\"\"},\"colorscale\":[[0.0,\"#0d0887\"],[0.1111111111111111,\"#46039f\"],[0.2222222222222222,\"#7201a8\"],[0.3333333333333333,\"#9c179e\"],[0.4444444444444444,\"#bd3786\"],[0.5555555555555556,\"#d8576b\"],[0.6666666666666666,\"#ed7953\"],[0.7777777777777778,\"#fb9f3a\"],[0.8888888888888888,\"#fdca26\"],[1.0,\"#f0f921\"]]}],\"heatmap\":[{\"type\":\"heatmap\",\"colorbar\":{\"outlinewidth\":0,\"ticks\":\"\"},\"colorscale\":[[0.0,\"#0d0887\"],[0.1111111111111111,\"#46039f\"],[0.2222222222222222,\"#7201a8\"],[0.3333333333333333,\"#9c179e\"],[0.4444444444444444,\"#bd3786\"],[0.5555555555555556,\"#d8576b\"],[0.6666666666666666,\"#ed7953\"],[0.7777777777777778,\"#fb9f3a\"],[0.8888888888888888,\"#fdca26\"],[1.0,\"#f0f921\"]]}],\"heatmapgl\":[{\"type\":\"heatmapgl\",\"colorbar\":{\"outlinewidth\":0,\"ticks\":\"\"},\"colorscale\":[[0.0,\"#0d0887\"],[0.1111111111111111,\"#46039f\"],[0.2222222222222222,\"#7201a8\"],[0.3333333333333333,\"#9c179e\"],[0.4444444444444444,\"#bd3786\"],[0.5555555555555556,\"#d8576b\"],[0.6666666666666666,\"#ed7953\"],[0.7777777777777778,\"#fb9f3a\"],[0.8888888888888888,\"#fdca26\"],[1.0,\"#f0f921\"]]}],\"contourcarpet\":[{\"type\":\"contourcarpet\",\"colorbar\":{\"outlinewidth\":0,\"ticks\":\"\"}}],\"contour\":[{\"type\":\"contour\",\"colorbar\":{\"outlinewidth\":0,\"ticks\":\"\"},\"colorscale\":[[0.0,\"#0d0887\"],[0.1111111111111111,\"#46039f\"],[0.2222222222222222,\"#7201a8\"],[0.3333333333333333,\"#9c179e\"],[0.4444444444444444,\"#bd3786\"],[0.5555555555555556,\"#d8576b\"],[0.6666666666666666,\"#ed7953\"],[0.7777777777777778,\"#fb9f3a\"],[0.8888888888888888,\"#fdca26\"],[1.0,\"#f0f921\"]]}],\"surface\":[{\"type\":\"surface\",\"colorbar\":{\"outlinewidth\":0,\"ticks\":\"\"},\"colorscale\":[[0.0,\"#0d0887\"],[0.1111111111111111,\"#46039f\"],[0.2222222222222222,\"#7201a8\"],[0.3333333333333333,\"#9c179e\"],[0.4444444444444444,\"#bd3786\"],[0.5555555555555556,\"#d8576b\"],[0.6666666666666666,\"#ed7953\"],[0.7777777777777778,\"#fb9f3a\"],[0.8888888888888888,\"#fdca26\"],[1.0,\"#f0f921\"]]}],\"mesh3d\":[{\"type\":\"mesh3d\",\"colorbar\":{\"outlinewidth\":0,\"ticks\":\"\"}}],\"scatter\":[{\"fillpattern\":{\"fillmode\":\"overlay\",\"size\":10,\"solidity\":0.2},\"type\":\"scatter\"}],\"parcoords\":[{\"type\":\"parcoords\",\"line\":{\"colorbar\":{\"outlinewidth\":0,\"ticks\":\"\"}}}],\"scatterpolargl\":[{\"type\":\"scatterpolargl\",\"marker\":{\"colorbar\":{\"outlinewidth\":0,\"ticks\":\"\"}}}],\"bar\":[{\"error_x\":{\"color\":\"#2a3f5f\"},\"error_y\":{\"color\":\"#2a3f5f\"},\"marker\":{\"line\":{\"color\":\"#E5ECF6\",\"width\":0.5},\"pattern\":{\"fillmode\":\"overlay\",\"size\":10,\"solidity\":0.2}},\"type\":\"bar\"}],\"scattergeo\":[{\"type\":\"scattergeo\",\"marker\":{\"colorbar\":{\"outlinewidth\":0,\"ticks\":\"\"}}}],\"scatterpolar\":[{\"type\":\"scatterpolar\",\"marker\":{\"colorbar\":{\"outlinewidth\":0,\"ticks\":\"\"}}}],\"histogram\":[{\"marker\":{\"pattern\":{\"fillmode\":\"overlay\",\"size\":10,\"solidity\":0.2}},\"type\":\"histogram\"}],\"scattergl\":[{\"type\":\"scattergl\",\"marker\":{\"colorbar\":{\"outlinewidth\":0,\"ticks\":\"\"}}}],\"scatter3d\":[{\"type\":\"scatter3d\",\"line\":{\"colorbar\":{\"outlinewidth\":0,\"ticks\":\"\"}},\"marker\":{\"colorbar\":{\"outlinewidth\":0,\"ticks\":\"\"}}}],\"scattermapbox\":[{\"type\":\"scattermapbox\",\"marker\":{\"colorbar\":{\"outlinewidth\":0,\"ticks\":\"\"}}}],\"scatterternary\":[{\"type\":\"scatterternary\",\"marker\":{\"colorbar\":{\"outlinewidth\":0,\"ticks\":\"\"}}}],\"scattercarpet\":[{\"type\":\"scattercarpet\",\"marker\":{\"colorbar\":{\"outlinewidth\":0,\"ticks\":\"\"}}}],\"carpet\":[{\"aaxis\":{\"endlinecolor\":\"#2a3f5f\",\"gridcolor\":\"white\",\"linecolor\":\"white\",\"minorgridcolor\":\"white\",\"startlinecolor\":\"#2a3f5f\"},\"baxis\":{\"endlinecolor\":\"#2a3f5f\",\"gridcolor\":\"white\",\"linecolor\":\"white\",\"minorgridcolor\":\"white\",\"startlinecolor\":\"#2a3f5f\"},\"type\":\"carpet\"}],\"table\":[{\"cells\":{\"fill\":{\"color\":\"#EBF0F8\"},\"line\":{\"color\":\"white\"}},\"header\":{\"fill\":{\"color\":\"#C8D4E3\"},\"line\":{\"color\":\"white\"}},\"type\":\"table\"}],\"barpolar\":[{\"marker\":{\"line\":{\"color\":\"#E5ECF6\",\"width\":0.5},\"pattern\":{\"fillmode\":\"overlay\",\"size\":10,\"solidity\":0.2}},\"type\":\"barpolar\"}],\"pie\":[{\"automargin\":true,\"type\":\"pie\"}]},\"layout\":{\"autotypenumbers\":\"strict\",\"colorway\":[\"#636efa\",\"#EF553B\",\"#00cc96\",\"#ab63fa\",\"#FFA15A\",\"#19d3f3\",\"#FF6692\",\"#B6E880\",\"#FF97FF\",\"#FECB52\"],\"font\":{\"color\":\"#2a3f5f\"},\"hovermode\":\"closest\",\"hoverlabel\":{\"align\":\"left\"},\"paper_bgcolor\":\"white\",\"plot_bgcolor\":\"#E5ECF6\",\"polar\":{\"bgcolor\":\"#E5ECF6\",\"angularaxis\":{\"gridcolor\":\"white\",\"linecolor\":\"white\",\"ticks\":\"\"},\"radialaxis\":{\"gridcolor\":\"white\",\"linecolor\":\"white\",\"ticks\":\"\"}},\"ternary\":{\"bgcolor\":\"#E5ECF6\",\"aaxis\":{\"gridcolor\":\"white\",\"linecolor\":\"white\",\"ticks\":\"\"},\"baxis\":{\"gridcolor\":\"white\",\"linecolor\":\"white\",\"ticks\":\"\"},\"caxis\":{\"gridcolor\":\"white\",\"linecolor\":\"white\",\"ticks\":\"\"}},\"coloraxis\":{\"colorbar\":{\"outlinewidth\":0,\"ticks\":\"\"}},\"colorscale\":{\"sequential\":[[0.0,\"#0d0887\"],[0.1111111111111111,\"#46039f\"],[0.2222222222222222,\"#7201a8\"],[0.3333333333333333,\"#9c179e\"],[0.4444444444444444,\"#bd3786\"],[0.5555555555555556,\"#d8576b\"],[0.6666666666666666,\"#ed7953\"],[0.7777777777777778,\"#fb9f3a\"],[0.8888888888888888,\"#fdca26\"],[1.0,\"#f0f921\"]],\"sequentialminus\":[[0.0,\"#0d0887\"],[0.1111111111111111,\"#46039f\"],[0.2222222222222222,\"#7201a8\"],[0.3333333333333333,\"#9c179e\"],[0.4444444444444444,\"#bd3786\"],[0.5555555555555556,\"#d8576b\"],[0.6666666666666666,\"#ed7953\"],[0.7777777777777778,\"#fb9f3a\"],[0.8888888888888888,\"#fdca26\"],[1.0,\"#f0f921\"]],\"diverging\":[[0,\"#8e0152\"],[0.1,\"#c51b7d\"],[0.2,\"#de77ae\"],[0.3,\"#f1b6da\"],[0.4,\"#fde0ef\"],[0.5,\"#f7f7f7\"],[0.6,\"#e6f5d0\"],[0.7,\"#b8e186\"],[0.8,\"#7fbc41\"],[0.9,\"#4d9221\"],[1,\"#276419\"]]},\"xaxis\":{\"gridcolor\":\"white\",\"linecolor\":\"white\",\"ticks\":\"\",\"title\":{\"standoff\":15},\"zerolinecolor\":\"white\",\"automargin\":true,\"zerolinewidth\":2},\"yaxis\":{\"gridcolor\":\"white\",\"linecolor\":\"white\",\"ticks\":\"\",\"title\":{\"standoff\":15},\"zerolinecolor\":\"white\",\"automargin\":true,\"zerolinewidth\":2},\"scene\":{\"xaxis\":{\"backgroundcolor\":\"#E5ECF6\",\"gridcolor\":\"white\",\"linecolor\":\"white\",\"showbackground\":true,\"ticks\":\"\",\"zerolinecolor\":\"white\",\"gridwidth\":2},\"yaxis\":{\"backgroundcolor\":\"#E5ECF6\",\"gridcolor\":\"white\",\"linecolor\":\"white\",\"showbackground\":true,\"ticks\":\"\",\"zerolinecolor\":\"white\",\"gridwidth\":2},\"zaxis\":{\"backgroundcolor\":\"#E5ECF6\",\"gridcolor\":\"white\",\"linecolor\":\"white\",\"showbackground\":true,\"ticks\":\"\",\"zerolinecolor\":\"white\",\"gridwidth\":2}},\"shapedefaults\":{\"line\":{\"color\":\"#2a3f5f\"}},\"annotationdefaults\":{\"arrowcolor\":\"#2a3f5f\",\"arrowhead\":0,\"arrowwidth\":1},\"geo\":{\"bgcolor\":\"white\",\"landcolor\":\"#E5ECF6\",\"subunitcolor\":\"white\",\"showland\":true,\"showlakes\":true,\"lakecolor\":\"white\"},\"title\":{\"x\":0.05},\"mapbox\":{\"style\":\"light\"}}}},                        {\"responsive\": true}                    ).then(function(){\n",
              "                            \n",
              "var gd = document.getElementById('c18bbd0f-e377-48bc-804a-d793476a37bd');\n",
              "var x = new MutationObserver(function (mutations, observer) {{\n",
              "        var display = window.getComputedStyle(gd).display;\n",
              "        if (!display || display === 'none') {{\n",
              "            console.log([gd, 'removed!']);\n",
              "            Plotly.purge(gd);\n",
              "            observer.disconnect();\n",
              "        }}\n",
              "}});\n",
              "\n",
              "// Listen for the removal of the full notebook cells\n",
              "var notebookContainer = gd.closest('#notebook-container');\n",
              "if (notebookContainer) {{\n",
              "    x.observe(notebookContainer, {childList: true});\n",
              "}}\n",
              "\n",
              "// Listen for the clearing of the current output cell\n",
              "var outputEl = gd.closest('.output');\n",
              "if (outputEl) {{\n",
              "    x.observe(outputEl, {childList: true});\n",
              "}}\n",
              "\n",
              "                        })                };                            </script>        </div>\n",
              "</body>\n",
              "</html>"
            ]
          },
          "metadata": {}
        }
      ]
    },
    {
      "cell_type": "code",
      "source": [
        "equalIndexReturn = wEW.mul(returns).sum(axis=1)\n",
        "equalIndex = (1+equalIndexReturn).cumprod()"
      ],
      "metadata": {
        "id": "vaLejhOffjkC"
      },
      "execution_count": 6,
      "outputs": []
    },
    {
      "cell_type": "code",
      "source": [
        "SMIIndex = SMI_index/SMI_index.iloc[0]\n",
        "\n",
        "index_df = pd.Series.to_frame(SMIIndex, name=\"Official SMI\")\n",
        "index_df[\"Equal Weighted\"] = equalIndex"
      ],
      "metadata": {
        "id": "6gtfMbN7flMG"
      },
      "execution_count": 7,
      "outputs": []
    },
    {
      "cell_type": "code",
      "source": [
        "# Minimum Variance\n",
        "wMinVar = pd.DataFrame(index = returns.index, columns = returns.columns)\n",
        "window_covariance_matrix = 36\n",
        "num_periods = wMinVar.shape[0]\n",
        "\n",
        "lb = 0.0\n",
        "ub = 0.3\n",
        "\n",
        "startTime = time.time()\n",
        "\n",
        "for row in range(window_covariance_matrix+1, num_periods):\n",
        "  retour = returns.iloc[row - window_covariance_matrix:row,]\n",
        "  valid = retour.notna().all().to_list()\n",
        "  retour_noNan = retour.dropna(axis = 1)\n",
        "\n",
        "  wMV = np.zeros(retour.shape[1])\n",
        "\n",
        "  num_assets = retour_noNan.shape[1]\n",
        "  sigma = retour_noNan.cov()\n",
        "  e = np.ones((num_assets, 1))\n",
        "  x0 = np.ones((num_assets, 1)) / num_assets\n",
        "\n",
        "  objfunction_MV = lambda x: x.T @ sigma @ x\n",
        "  Aeq = e.T\n",
        "  beq = 1\n",
        "  equation_cons1 = lambda x: np.dot(Aeq, x) - beq\n",
        "  cons_1 = ({'type': 'eq', 'fun': equation_cons1})\n",
        "\n",
        "  result = minimize(objfunction_MV, x0, method='SLSQP', tol=1e-8, bounds = [(lb,ub)]*num_assets, constraints=cons_1)\n",
        "\n",
        "  wMV[valid] = result.x\n",
        "  wMinVar.iloc[row] = wMV\n",
        "\n",
        "print(f\"Time to execute: {time.time() - startTime:.0f} seconds\")"
      ],
      "metadata": {
        "colab": {
          "base_uri": "https://localhost:8080/"
        },
        "id": "zr0k2Xf5fm9o",
        "outputId": "d4df16b2-82df-4f2d-cf67-7e2383e5780e"
      },
      "execution_count": 8,
      "outputs": [
        {
          "output_type": "stream",
          "name": "stdout",
          "text": [
            "Time to execute: 68 seconds\n"
          ]
        }
      ]
    },
    {
      "cell_type": "code",
      "source": [
        "fig_weights.add_trace(go.Bar(x = wEW.columns, y = wMinVar.iloc[-1], name = 'MinVar Weights'))\n",
        "fig_weights.show()"
      ],
      "metadata": {
        "colab": {
          "base_uri": "https://localhost:8080/",
          "height": 542
        },
        "id": "vBI7sKxwfoY-",
        "outputId": "f339f96c-919b-4191-f2b4-ca92d0719ae1"
      },
      "execution_count": 9,
      "outputs": [
        {
          "output_type": "display_data",
          "data": {
            "text/html": [
              "<html>\n",
              "<head><meta charset=\"utf-8\" /></head>\n",
              "<body>\n",
              "    <div>            <script src=\"https://cdnjs.cloudflare.com/ajax/libs/mathjax/2.7.5/MathJax.js?config=TeX-AMS-MML_SVG\"></script><script type=\"text/javascript\">if (window.MathJax && window.MathJax.Hub && window.MathJax.Hub.Config) {window.MathJax.Hub.Config({SVG: {font: \"STIX-Web\"}});}</script>                <script type=\"text/javascript\">window.PlotlyConfig = {MathJaxConfig: 'local'};</script>\n",
              "        <script src=\"https://cdn.plot.ly/plotly-2.18.2.min.js\"></script>                <div id=\"a98a2daf-885c-4503-83ac-207bd28dabfa\" class=\"plotly-graph-div\" style=\"height:525px; width:100%;\"></div>            <script type=\"text/javascript\">                                    window.PLOTLYENV=window.PLOTLYENV || {};                                    if (document.getElementById(\"a98a2daf-885c-4503-83ac-207bd28dabfa\")) {                    Plotly.newPlot(                        \"a98a2daf-885c-4503-83ac-207bd28dabfa\",                        [{\"name\":\"Equal weights\",\"x\":[\"SGS 'N'\",\"SWISSCOM 'R'\",\"GIVAUDAN 'N'\",\"ZURICH INSURANCE GROUP\",\"NOVARTIS 'R'\",\"ROCHE HOLDING\",\"CREDIT SUISSE GROUP\",\"HOLCIM\",\"ABB LTD N\",\"THE SWATCH GROUP\",\"LONZA GROUP\",\"SWISS LIFE HOLDING\",\"PARTNERS GROUP HOLDING\",\"GEBERIT 'R'\",\"NESTLE 'N'\",\"SWISS RE\",\"RICHEMONT N\",\"UBS GROUP\",\"SIKA\",\"ALCON (SWX) ORD SHS\"],\"y\":[0.05,0.05,0.05,0.05,0.05,0.05,0.05,0.05,0.05,0.05,0.05,0.05,0.05,0.05,0.05,0.05,0.05,0.05,0.05,0.05],\"type\":\"bar\"},{\"name\":\"MinVar Weights\",\"x\":[\"SGS 'N'\",\"SWISSCOM 'R'\",\"GIVAUDAN 'N'\",\"ZURICH INSURANCE GROUP\",\"NOVARTIS 'R'\",\"ROCHE HOLDING\",\"CREDIT SUISSE GROUP\",\"HOLCIM\",\"ABB LTD N\",\"THE SWATCH GROUP\",\"LONZA GROUP\",\"SWISS LIFE HOLDING\",\"PARTNERS GROUP HOLDING\",\"GEBERIT 'R'\",\"NESTLE 'N'\",\"SWISS RE\",\"RICHEMONT N\",\"UBS GROUP\",\"SIKA\",\"ALCON (SWX) ORD SHS\"],\"y\":[1.636663383886511e-17,0.29999999999999993,0.0,0.06371949684274773,2.999777418017188e-17,0.20325177198202735,0.024232372326503455,2.685896252410133e-19,1.0698086084596538e-18,0.04534689947410788,0.08192593616565916,2.249836383217172e-18,1.60439316377438e-18,0.0077603166308828535,0.2048849181816793,0.0,0.0,0.0,0.06887828839639244,0.0],\"type\":\"bar\"}],                        {\"template\":{\"data\":{\"histogram2dcontour\":[{\"type\":\"histogram2dcontour\",\"colorbar\":{\"outlinewidth\":0,\"ticks\":\"\"},\"colorscale\":[[0.0,\"#0d0887\"],[0.1111111111111111,\"#46039f\"],[0.2222222222222222,\"#7201a8\"],[0.3333333333333333,\"#9c179e\"],[0.4444444444444444,\"#bd3786\"],[0.5555555555555556,\"#d8576b\"],[0.6666666666666666,\"#ed7953\"],[0.7777777777777778,\"#fb9f3a\"],[0.8888888888888888,\"#fdca26\"],[1.0,\"#f0f921\"]]}],\"choropleth\":[{\"type\":\"choropleth\",\"colorbar\":{\"outlinewidth\":0,\"ticks\":\"\"}}],\"histogram2d\":[{\"type\":\"histogram2d\",\"colorbar\":{\"outlinewidth\":0,\"ticks\":\"\"},\"colorscale\":[[0.0,\"#0d0887\"],[0.1111111111111111,\"#46039f\"],[0.2222222222222222,\"#7201a8\"],[0.3333333333333333,\"#9c179e\"],[0.4444444444444444,\"#bd3786\"],[0.5555555555555556,\"#d8576b\"],[0.6666666666666666,\"#ed7953\"],[0.7777777777777778,\"#fb9f3a\"],[0.8888888888888888,\"#fdca26\"],[1.0,\"#f0f921\"]]}],\"heatmap\":[{\"type\":\"heatmap\",\"colorbar\":{\"outlinewidth\":0,\"ticks\":\"\"},\"colorscale\":[[0.0,\"#0d0887\"],[0.1111111111111111,\"#46039f\"],[0.2222222222222222,\"#7201a8\"],[0.3333333333333333,\"#9c179e\"],[0.4444444444444444,\"#bd3786\"],[0.5555555555555556,\"#d8576b\"],[0.6666666666666666,\"#ed7953\"],[0.7777777777777778,\"#fb9f3a\"],[0.8888888888888888,\"#fdca26\"],[1.0,\"#f0f921\"]]}],\"heatmapgl\":[{\"type\":\"heatmapgl\",\"colorbar\":{\"outlinewidth\":0,\"ticks\":\"\"},\"colorscale\":[[0.0,\"#0d0887\"],[0.1111111111111111,\"#46039f\"],[0.2222222222222222,\"#7201a8\"],[0.3333333333333333,\"#9c179e\"],[0.4444444444444444,\"#bd3786\"],[0.5555555555555556,\"#d8576b\"],[0.6666666666666666,\"#ed7953\"],[0.7777777777777778,\"#fb9f3a\"],[0.8888888888888888,\"#fdca26\"],[1.0,\"#f0f921\"]]}],\"contourcarpet\":[{\"type\":\"contourcarpet\",\"colorbar\":{\"outlinewidth\":0,\"ticks\":\"\"}}],\"contour\":[{\"type\":\"contour\",\"colorbar\":{\"outlinewidth\":0,\"ticks\":\"\"},\"colorscale\":[[0.0,\"#0d0887\"],[0.1111111111111111,\"#46039f\"],[0.2222222222222222,\"#7201a8\"],[0.3333333333333333,\"#9c179e\"],[0.4444444444444444,\"#bd3786\"],[0.5555555555555556,\"#d8576b\"],[0.6666666666666666,\"#ed7953\"],[0.7777777777777778,\"#fb9f3a\"],[0.8888888888888888,\"#fdca26\"],[1.0,\"#f0f921\"]]}],\"surface\":[{\"type\":\"surface\",\"colorbar\":{\"outlinewidth\":0,\"ticks\":\"\"},\"colorscale\":[[0.0,\"#0d0887\"],[0.1111111111111111,\"#46039f\"],[0.2222222222222222,\"#7201a8\"],[0.3333333333333333,\"#9c179e\"],[0.4444444444444444,\"#bd3786\"],[0.5555555555555556,\"#d8576b\"],[0.6666666666666666,\"#ed7953\"],[0.7777777777777778,\"#fb9f3a\"],[0.8888888888888888,\"#fdca26\"],[1.0,\"#f0f921\"]]}],\"mesh3d\":[{\"type\":\"mesh3d\",\"colorbar\":{\"outlinewidth\":0,\"ticks\":\"\"}}],\"scatter\":[{\"fillpattern\":{\"fillmode\":\"overlay\",\"size\":10,\"solidity\":0.2},\"type\":\"scatter\"}],\"parcoords\":[{\"type\":\"parcoords\",\"line\":{\"colorbar\":{\"outlinewidth\":0,\"ticks\":\"\"}}}],\"scatterpolargl\":[{\"type\":\"scatterpolargl\",\"marker\":{\"colorbar\":{\"outlinewidth\":0,\"ticks\":\"\"}}}],\"bar\":[{\"error_x\":{\"color\":\"#2a3f5f\"},\"error_y\":{\"color\":\"#2a3f5f\"},\"marker\":{\"line\":{\"color\":\"#E5ECF6\",\"width\":0.5},\"pattern\":{\"fillmode\":\"overlay\",\"size\":10,\"solidity\":0.2}},\"type\":\"bar\"}],\"scattergeo\":[{\"type\":\"scattergeo\",\"marker\":{\"colorbar\":{\"outlinewidth\":0,\"ticks\":\"\"}}}],\"scatterpolar\":[{\"type\":\"scatterpolar\",\"marker\":{\"colorbar\":{\"outlinewidth\":0,\"ticks\":\"\"}}}],\"histogram\":[{\"marker\":{\"pattern\":{\"fillmode\":\"overlay\",\"size\":10,\"solidity\":0.2}},\"type\":\"histogram\"}],\"scattergl\":[{\"type\":\"scattergl\",\"marker\":{\"colorbar\":{\"outlinewidth\":0,\"ticks\":\"\"}}}],\"scatter3d\":[{\"type\":\"scatter3d\",\"line\":{\"colorbar\":{\"outlinewidth\":0,\"ticks\":\"\"}},\"marker\":{\"colorbar\":{\"outlinewidth\":0,\"ticks\":\"\"}}}],\"scattermapbox\":[{\"type\":\"scattermapbox\",\"marker\":{\"colorbar\":{\"outlinewidth\":0,\"ticks\":\"\"}}}],\"scatterternary\":[{\"type\":\"scatterternary\",\"marker\":{\"colorbar\":{\"outlinewidth\":0,\"ticks\":\"\"}}}],\"scattercarpet\":[{\"type\":\"scattercarpet\",\"marker\":{\"colorbar\":{\"outlinewidth\":0,\"ticks\":\"\"}}}],\"carpet\":[{\"aaxis\":{\"endlinecolor\":\"#2a3f5f\",\"gridcolor\":\"white\",\"linecolor\":\"white\",\"minorgridcolor\":\"white\",\"startlinecolor\":\"#2a3f5f\"},\"baxis\":{\"endlinecolor\":\"#2a3f5f\",\"gridcolor\":\"white\",\"linecolor\":\"white\",\"minorgridcolor\":\"white\",\"startlinecolor\":\"#2a3f5f\"},\"type\":\"carpet\"}],\"table\":[{\"cells\":{\"fill\":{\"color\":\"#EBF0F8\"},\"line\":{\"color\":\"white\"}},\"header\":{\"fill\":{\"color\":\"#C8D4E3\"},\"line\":{\"color\":\"white\"}},\"type\":\"table\"}],\"barpolar\":[{\"marker\":{\"line\":{\"color\":\"#E5ECF6\",\"width\":0.5},\"pattern\":{\"fillmode\":\"overlay\",\"size\":10,\"solidity\":0.2}},\"type\":\"barpolar\"}],\"pie\":[{\"automargin\":true,\"type\":\"pie\"}]},\"layout\":{\"autotypenumbers\":\"strict\",\"colorway\":[\"#636efa\",\"#EF553B\",\"#00cc96\",\"#ab63fa\",\"#FFA15A\",\"#19d3f3\",\"#FF6692\",\"#B6E880\",\"#FF97FF\",\"#FECB52\"],\"font\":{\"color\":\"#2a3f5f\"},\"hovermode\":\"closest\",\"hoverlabel\":{\"align\":\"left\"},\"paper_bgcolor\":\"white\",\"plot_bgcolor\":\"#E5ECF6\",\"polar\":{\"bgcolor\":\"#E5ECF6\",\"angularaxis\":{\"gridcolor\":\"white\",\"linecolor\":\"white\",\"ticks\":\"\"},\"radialaxis\":{\"gridcolor\":\"white\",\"linecolor\":\"white\",\"ticks\":\"\"}},\"ternary\":{\"bgcolor\":\"#E5ECF6\",\"aaxis\":{\"gridcolor\":\"white\",\"linecolor\":\"white\",\"ticks\":\"\"},\"baxis\":{\"gridcolor\":\"white\",\"linecolor\":\"white\",\"ticks\":\"\"},\"caxis\":{\"gridcolor\":\"white\",\"linecolor\":\"white\",\"ticks\":\"\"}},\"coloraxis\":{\"colorbar\":{\"outlinewidth\":0,\"ticks\":\"\"}},\"colorscale\":{\"sequential\":[[0.0,\"#0d0887\"],[0.1111111111111111,\"#46039f\"],[0.2222222222222222,\"#7201a8\"],[0.3333333333333333,\"#9c179e\"],[0.4444444444444444,\"#bd3786\"],[0.5555555555555556,\"#d8576b\"],[0.6666666666666666,\"#ed7953\"],[0.7777777777777778,\"#fb9f3a\"],[0.8888888888888888,\"#fdca26\"],[1.0,\"#f0f921\"]],\"sequentialminus\":[[0.0,\"#0d0887\"],[0.1111111111111111,\"#46039f\"],[0.2222222222222222,\"#7201a8\"],[0.3333333333333333,\"#9c179e\"],[0.4444444444444444,\"#bd3786\"],[0.5555555555555556,\"#d8576b\"],[0.6666666666666666,\"#ed7953\"],[0.7777777777777778,\"#fb9f3a\"],[0.8888888888888888,\"#fdca26\"],[1.0,\"#f0f921\"]],\"diverging\":[[0,\"#8e0152\"],[0.1,\"#c51b7d\"],[0.2,\"#de77ae\"],[0.3,\"#f1b6da\"],[0.4,\"#fde0ef\"],[0.5,\"#f7f7f7\"],[0.6,\"#e6f5d0\"],[0.7,\"#b8e186\"],[0.8,\"#7fbc41\"],[0.9,\"#4d9221\"],[1,\"#276419\"]]},\"xaxis\":{\"gridcolor\":\"white\",\"linecolor\":\"white\",\"ticks\":\"\",\"title\":{\"standoff\":15},\"zerolinecolor\":\"white\",\"automargin\":true,\"zerolinewidth\":2},\"yaxis\":{\"gridcolor\":\"white\",\"linecolor\":\"white\",\"ticks\":\"\",\"title\":{\"standoff\":15},\"zerolinecolor\":\"white\",\"automargin\":true,\"zerolinewidth\":2},\"scene\":{\"xaxis\":{\"backgroundcolor\":\"#E5ECF6\",\"gridcolor\":\"white\",\"linecolor\":\"white\",\"showbackground\":true,\"ticks\":\"\",\"zerolinecolor\":\"white\",\"gridwidth\":2},\"yaxis\":{\"backgroundcolor\":\"#E5ECF6\",\"gridcolor\":\"white\",\"linecolor\":\"white\",\"showbackground\":true,\"ticks\":\"\",\"zerolinecolor\":\"white\",\"gridwidth\":2},\"zaxis\":{\"backgroundcolor\":\"#E5ECF6\",\"gridcolor\":\"white\",\"linecolor\":\"white\",\"showbackground\":true,\"ticks\":\"\",\"zerolinecolor\":\"white\",\"gridwidth\":2}},\"shapedefaults\":{\"line\":{\"color\":\"#2a3f5f\"}},\"annotationdefaults\":{\"arrowcolor\":\"#2a3f5f\",\"arrowhead\":0,\"arrowwidth\":1},\"geo\":{\"bgcolor\":\"white\",\"landcolor\":\"#E5ECF6\",\"subunitcolor\":\"white\",\"showland\":true,\"showlakes\":true,\"lakecolor\":\"white\"},\"title\":{\"x\":0.05},\"mapbox\":{\"style\":\"light\"}}}},                        {\"responsive\": true}                    ).then(function(){\n",
              "                            \n",
              "var gd = document.getElementById('a98a2daf-885c-4503-83ac-207bd28dabfa');\n",
              "var x = new MutationObserver(function (mutations, observer) {{\n",
              "        var display = window.getComputedStyle(gd).display;\n",
              "        if (!display || display === 'none') {{\n",
              "            console.log([gd, 'removed!']);\n",
              "            Plotly.purge(gd);\n",
              "            observer.disconnect();\n",
              "        }}\n",
              "}});\n",
              "\n",
              "// Listen for the removal of the full notebook cells\n",
              "var notebookContainer = gd.closest('#notebook-container');\n",
              "if (notebookContainer) {{\n",
              "    x.observe(notebookContainer, {childList: true});\n",
              "}}\n",
              "\n",
              "// Listen for the clearing of the current output cell\n",
              "var outputEl = gd.closest('.output');\n",
              "if (outputEl) {{\n",
              "    x.observe(outputEl, {childList: true});\n",
              "}}\n",
              "\n",
              "                        })                };                            </script>        </div>\n",
              "</body>\n",
              "</html>"
            ]
          },
          "metadata": {}
        }
      ]
    },
    {
      "cell_type": "code",
      "source": [
        "minvarIndexreturn = wMinVar.mul(returns).sum(axis = 1)\n",
        "minvarIndex = (1+minvarIndexreturn).cumprod()\n",
        "\n",
        "index_df['Min Variance'] = minvarIndex"
      ],
      "metadata": {
        "id": "b2CgUOiGfptu"
      },
      "execution_count": 10,
      "outputs": []
    },
    {
      "cell_type": "code",
      "source": [
        "#Maximum Diversification\n",
        "wMaxDiv = pd.DataFrame(index = market_cap.index, columns = market_cap.columns).fillna(0)\n",
        "window_covariance_matrix = 36\n",
        "num_periods = wMaxDiv.shape[0]\n",
        "\n",
        "lb = 0.0\n",
        "ub = 0.3\n",
        "\n",
        "startTime = time.time()\n",
        "\n",
        "for row in range(window_covariance_matrix +1, num_periods):\n",
        "  retour = returns.iloc[row-window_covariance_matrix:row,]\n",
        "  valid = retour.notna().all().to_list()\n",
        "  retour_noNan = retour.dropna(axis = 1)\n",
        "  \n",
        "  wMD = np.zeros(wMaxDiv.shape[1])\n",
        "\n",
        "  num_assets = retour_noNan.shape[1]\n",
        "  sigma = retour_noNan.cov()\n",
        "  sigmaVec = np.diag(sigma)\n",
        "  e = np.ones((num_assets, 1))\n",
        "  x0 = np.ones((num_assets, 1)) / num_assets\n",
        "\n",
        "\n",
        "  objfunctionMD = lambda x: (-1*x.T @ sigmaVec) / ((x.T @ sigma @ x) ** 0.5)\n",
        "  \n",
        "  Aeq = e.T\n",
        "  beq = 1\n",
        "  equation_cons1 = lambda x: (Aeq @ x) - beq\n",
        "  cons_1 = ({'type':'eq', 'fun':equation_cons1})\n",
        "\n",
        "  result = minimize(objfunctionMD, x0, method='SLSQP', tol=1e-8, bounds=[(lb, ub)]*num_assets, constraints=cons_1)\n",
        "\n",
        "  wMD[valid] = result.x\n",
        "  wMaxDiv.iloc[row] = wMD\n",
        "\n",
        "print(f\"Time to execute: {time.time() - startTime:.0f} seconds\")"
      ],
      "metadata": {
        "colab": {
          "base_uri": "https://localhost:8080/"
        },
        "id": "cYP7EHMwfrNE",
        "outputId": "8dfda8ce-6754-4bb3-cb80-943813a6da4c"
      },
      "execution_count": 11,
      "outputs": [
        {
          "output_type": "stream",
          "name": "stdout",
          "text": [
            "Time to execute: 34 seconds\n"
          ]
        }
      ]
    },
    {
      "cell_type": "code",
      "source": [
        "fig_weights.add_trace(go.Bar(x = wEW.columns, y = wMaxDiv.iloc[-1], name = 'Max Diversification'))\n",
        "fig_weights.show()\n"
      ],
      "metadata": {
        "colab": {
          "base_uri": "https://localhost:8080/",
          "height": 542
        },
        "id": "8tQozGX9ft3B",
        "outputId": "d6969c5b-dd6d-476e-8b35-6bdcd16a39f2"
      },
      "execution_count": 12,
      "outputs": [
        {
          "output_type": "display_data",
          "data": {
            "text/html": [
              "<html>\n",
              "<head><meta charset=\"utf-8\" /></head>\n",
              "<body>\n",
              "    <div>            <script src=\"https://cdnjs.cloudflare.com/ajax/libs/mathjax/2.7.5/MathJax.js?config=TeX-AMS-MML_SVG\"></script><script type=\"text/javascript\">if (window.MathJax && window.MathJax.Hub && window.MathJax.Hub.Config) {window.MathJax.Hub.Config({SVG: {font: \"STIX-Web\"}});}</script>                <script type=\"text/javascript\">window.PlotlyConfig = {MathJaxConfig: 'local'};</script>\n",
              "        <script src=\"https://cdn.plot.ly/plotly-2.18.2.min.js\"></script>                <div id=\"452a0bf8-d6b5-4052-a361-8e867bd91626\" class=\"plotly-graph-div\" style=\"height:525px; width:100%;\"></div>            <script type=\"text/javascript\">                                    window.PLOTLYENV=window.PLOTLYENV || {};                                    if (document.getElementById(\"452a0bf8-d6b5-4052-a361-8e867bd91626\")) {                    Plotly.newPlot(                        \"452a0bf8-d6b5-4052-a361-8e867bd91626\",                        [{\"name\":\"Equal weights\",\"x\":[\"SGS 'N'\",\"SWISSCOM 'R'\",\"GIVAUDAN 'N'\",\"ZURICH INSURANCE GROUP\",\"NOVARTIS 'R'\",\"ROCHE HOLDING\",\"CREDIT SUISSE GROUP\",\"HOLCIM\",\"ABB LTD N\",\"THE SWATCH GROUP\",\"LONZA GROUP\",\"SWISS LIFE HOLDING\",\"PARTNERS GROUP HOLDING\",\"GEBERIT 'R'\",\"NESTLE 'N'\",\"SWISS RE\",\"RICHEMONT N\",\"UBS GROUP\",\"SIKA\",\"ALCON (SWX) ORD SHS\"],\"y\":[0.05,0.05,0.05,0.05,0.05,0.05,0.05,0.05,0.05,0.05,0.05,0.05,0.05,0.05,0.05,0.05,0.05,0.05,0.05,0.05],\"type\":\"bar\"},{\"name\":\"MinVar Weights\",\"x\":[\"SGS 'N'\",\"SWISSCOM 'R'\",\"GIVAUDAN 'N'\",\"ZURICH INSURANCE GROUP\",\"NOVARTIS 'R'\",\"ROCHE HOLDING\",\"CREDIT SUISSE GROUP\",\"HOLCIM\",\"ABB LTD N\",\"THE SWATCH GROUP\",\"LONZA GROUP\",\"SWISS LIFE HOLDING\",\"PARTNERS GROUP HOLDING\",\"GEBERIT 'R'\",\"NESTLE 'N'\",\"SWISS RE\",\"RICHEMONT N\",\"UBS GROUP\",\"SIKA\",\"ALCON (SWX) ORD SHS\"],\"y\":[1.636663383886511e-17,0.29999999999999993,0.0,0.06371949684274773,2.999777418017188e-17,0.20325177198202735,0.024232372326503455,2.685896252410133e-19,1.0698086084596538e-18,0.04534689947410788,0.08192593616565916,2.249836383217172e-18,1.60439316377438e-18,0.0077603166308828535,0.2048849181816793,0.0,0.0,0.0,0.06887828839639244,0.0],\"type\":\"bar\"},{\"name\":\"Max Diversification\",\"x\":[\"SGS 'N'\",\"SWISSCOM 'R'\",\"GIVAUDAN 'N'\",\"ZURICH INSURANCE GROUP\",\"NOVARTIS 'R'\",\"ROCHE HOLDING\",\"CREDIT SUISSE GROUP\",\"HOLCIM\",\"ABB LTD N\",\"THE SWATCH GROUP\",\"LONZA GROUP\",\"SWISS LIFE HOLDING\",\"PARTNERS GROUP HOLDING\",\"GEBERIT 'R'\",\"NESTLE 'N'\",\"SWISS RE\",\"RICHEMONT N\",\"UBS GROUP\",\"SIKA\",\"ALCON (SWX) ORD SHS\"],\"y\":[0.0,0.3,0.0,0.0,0.0,0.036460198917631706,0.2690089775999225,0.0,9.981744898238417e-18,0.005190734497603146,0.1867910461796421,1.7887858647650647e-17,0.0,0.0,0.08006338489488592,3.099617270189742e-18,0.0333358037373252,0.0,0.08914985417298954,0.0],\"type\":\"bar\"}],                        {\"template\":{\"data\":{\"histogram2dcontour\":[{\"type\":\"histogram2dcontour\",\"colorbar\":{\"outlinewidth\":0,\"ticks\":\"\"},\"colorscale\":[[0.0,\"#0d0887\"],[0.1111111111111111,\"#46039f\"],[0.2222222222222222,\"#7201a8\"],[0.3333333333333333,\"#9c179e\"],[0.4444444444444444,\"#bd3786\"],[0.5555555555555556,\"#d8576b\"],[0.6666666666666666,\"#ed7953\"],[0.7777777777777778,\"#fb9f3a\"],[0.8888888888888888,\"#fdca26\"],[1.0,\"#f0f921\"]]}],\"choropleth\":[{\"type\":\"choropleth\",\"colorbar\":{\"outlinewidth\":0,\"ticks\":\"\"}}],\"histogram2d\":[{\"type\":\"histogram2d\",\"colorbar\":{\"outlinewidth\":0,\"ticks\":\"\"},\"colorscale\":[[0.0,\"#0d0887\"],[0.1111111111111111,\"#46039f\"],[0.2222222222222222,\"#7201a8\"],[0.3333333333333333,\"#9c179e\"],[0.4444444444444444,\"#bd3786\"],[0.5555555555555556,\"#d8576b\"],[0.6666666666666666,\"#ed7953\"],[0.7777777777777778,\"#fb9f3a\"],[0.8888888888888888,\"#fdca26\"],[1.0,\"#f0f921\"]]}],\"heatmap\":[{\"type\":\"heatmap\",\"colorbar\":{\"outlinewidth\":0,\"ticks\":\"\"},\"colorscale\":[[0.0,\"#0d0887\"],[0.1111111111111111,\"#46039f\"],[0.2222222222222222,\"#7201a8\"],[0.3333333333333333,\"#9c179e\"],[0.4444444444444444,\"#bd3786\"],[0.5555555555555556,\"#d8576b\"],[0.6666666666666666,\"#ed7953\"],[0.7777777777777778,\"#fb9f3a\"],[0.8888888888888888,\"#fdca26\"],[1.0,\"#f0f921\"]]}],\"heatmapgl\":[{\"type\":\"heatmapgl\",\"colorbar\":{\"outlinewidth\":0,\"ticks\":\"\"},\"colorscale\":[[0.0,\"#0d0887\"],[0.1111111111111111,\"#46039f\"],[0.2222222222222222,\"#7201a8\"],[0.3333333333333333,\"#9c179e\"],[0.4444444444444444,\"#bd3786\"],[0.5555555555555556,\"#d8576b\"],[0.6666666666666666,\"#ed7953\"],[0.7777777777777778,\"#fb9f3a\"],[0.8888888888888888,\"#fdca26\"],[1.0,\"#f0f921\"]]}],\"contourcarpet\":[{\"type\":\"contourcarpet\",\"colorbar\":{\"outlinewidth\":0,\"ticks\":\"\"}}],\"contour\":[{\"type\":\"contour\",\"colorbar\":{\"outlinewidth\":0,\"ticks\":\"\"},\"colorscale\":[[0.0,\"#0d0887\"],[0.1111111111111111,\"#46039f\"],[0.2222222222222222,\"#7201a8\"],[0.3333333333333333,\"#9c179e\"],[0.4444444444444444,\"#bd3786\"],[0.5555555555555556,\"#d8576b\"],[0.6666666666666666,\"#ed7953\"],[0.7777777777777778,\"#fb9f3a\"],[0.8888888888888888,\"#fdca26\"],[1.0,\"#f0f921\"]]}],\"surface\":[{\"type\":\"surface\",\"colorbar\":{\"outlinewidth\":0,\"ticks\":\"\"},\"colorscale\":[[0.0,\"#0d0887\"],[0.1111111111111111,\"#46039f\"],[0.2222222222222222,\"#7201a8\"],[0.3333333333333333,\"#9c179e\"],[0.4444444444444444,\"#bd3786\"],[0.5555555555555556,\"#d8576b\"],[0.6666666666666666,\"#ed7953\"],[0.7777777777777778,\"#fb9f3a\"],[0.8888888888888888,\"#fdca26\"],[1.0,\"#f0f921\"]]}],\"mesh3d\":[{\"type\":\"mesh3d\",\"colorbar\":{\"outlinewidth\":0,\"ticks\":\"\"}}],\"scatter\":[{\"fillpattern\":{\"fillmode\":\"overlay\",\"size\":10,\"solidity\":0.2},\"type\":\"scatter\"}],\"parcoords\":[{\"type\":\"parcoords\",\"line\":{\"colorbar\":{\"outlinewidth\":0,\"ticks\":\"\"}}}],\"scatterpolargl\":[{\"type\":\"scatterpolargl\",\"marker\":{\"colorbar\":{\"outlinewidth\":0,\"ticks\":\"\"}}}],\"bar\":[{\"error_x\":{\"color\":\"#2a3f5f\"},\"error_y\":{\"color\":\"#2a3f5f\"},\"marker\":{\"line\":{\"color\":\"#E5ECF6\",\"width\":0.5},\"pattern\":{\"fillmode\":\"overlay\",\"size\":10,\"solidity\":0.2}},\"type\":\"bar\"}],\"scattergeo\":[{\"type\":\"scattergeo\",\"marker\":{\"colorbar\":{\"outlinewidth\":0,\"ticks\":\"\"}}}],\"scatterpolar\":[{\"type\":\"scatterpolar\",\"marker\":{\"colorbar\":{\"outlinewidth\":0,\"ticks\":\"\"}}}],\"histogram\":[{\"marker\":{\"pattern\":{\"fillmode\":\"overlay\",\"size\":10,\"solidity\":0.2}},\"type\":\"histogram\"}],\"scattergl\":[{\"type\":\"scattergl\",\"marker\":{\"colorbar\":{\"outlinewidth\":0,\"ticks\":\"\"}}}],\"scatter3d\":[{\"type\":\"scatter3d\",\"line\":{\"colorbar\":{\"outlinewidth\":0,\"ticks\":\"\"}},\"marker\":{\"colorbar\":{\"outlinewidth\":0,\"ticks\":\"\"}}}],\"scattermapbox\":[{\"type\":\"scattermapbox\",\"marker\":{\"colorbar\":{\"outlinewidth\":0,\"ticks\":\"\"}}}],\"scatterternary\":[{\"type\":\"scatterternary\",\"marker\":{\"colorbar\":{\"outlinewidth\":0,\"ticks\":\"\"}}}],\"scattercarpet\":[{\"type\":\"scattercarpet\",\"marker\":{\"colorbar\":{\"outlinewidth\":0,\"ticks\":\"\"}}}],\"carpet\":[{\"aaxis\":{\"endlinecolor\":\"#2a3f5f\",\"gridcolor\":\"white\",\"linecolor\":\"white\",\"minorgridcolor\":\"white\",\"startlinecolor\":\"#2a3f5f\"},\"baxis\":{\"endlinecolor\":\"#2a3f5f\",\"gridcolor\":\"white\",\"linecolor\":\"white\",\"minorgridcolor\":\"white\",\"startlinecolor\":\"#2a3f5f\"},\"type\":\"carpet\"}],\"table\":[{\"cells\":{\"fill\":{\"color\":\"#EBF0F8\"},\"line\":{\"color\":\"white\"}},\"header\":{\"fill\":{\"color\":\"#C8D4E3\"},\"line\":{\"color\":\"white\"}},\"type\":\"table\"}],\"barpolar\":[{\"marker\":{\"line\":{\"color\":\"#E5ECF6\",\"width\":0.5},\"pattern\":{\"fillmode\":\"overlay\",\"size\":10,\"solidity\":0.2}},\"type\":\"barpolar\"}],\"pie\":[{\"automargin\":true,\"type\":\"pie\"}]},\"layout\":{\"autotypenumbers\":\"strict\",\"colorway\":[\"#636efa\",\"#EF553B\",\"#00cc96\",\"#ab63fa\",\"#FFA15A\",\"#19d3f3\",\"#FF6692\",\"#B6E880\",\"#FF97FF\",\"#FECB52\"],\"font\":{\"color\":\"#2a3f5f\"},\"hovermode\":\"closest\",\"hoverlabel\":{\"align\":\"left\"},\"paper_bgcolor\":\"white\",\"plot_bgcolor\":\"#E5ECF6\",\"polar\":{\"bgcolor\":\"#E5ECF6\",\"angularaxis\":{\"gridcolor\":\"white\",\"linecolor\":\"white\",\"ticks\":\"\"},\"radialaxis\":{\"gridcolor\":\"white\",\"linecolor\":\"white\",\"ticks\":\"\"}},\"ternary\":{\"bgcolor\":\"#E5ECF6\",\"aaxis\":{\"gridcolor\":\"white\",\"linecolor\":\"white\",\"ticks\":\"\"},\"baxis\":{\"gridcolor\":\"white\",\"linecolor\":\"white\",\"ticks\":\"\"},\"caxis\":{\"gridcolor\":\"white\",\"linecolor\":\"white\",\"ticks\":\"\"}},\"coloraxis\":{\"colorbar\":{\"outlinewidth\":0,\"ticks\":\"\"}},\"colorscale\":{\"sequential\":[[0.0,\"#0d0887\"],[0.1111111111111111,\"#46039f\"],[0.2222222222222222,\"#7201a8\"],[0.3333333333333333,\"#9c179e\"],[0.4444444444444444,\"#bd3786\"],[0.5555555555555556,\"#d8576b\"],[0.6666666666666666,\"#ed7953\"],[0.7777777777777778,\"#fb9f3a\"],[0.8888888888888888,\"#fdca26\"],[1.0,\"#f0f921\"]],\"sequentialminus\":[[0.0,\"#0d0887\"],[0.1111111111111111,\"#46039f\"],[0.2222222222222222,\"#7201a8\"],[0.3333333333333333,\"#9c179e\"],[0.4444444444444444,\"#bd3786\"],[0.5555555555555556,\"#d8576b\"],[0.6666666666666666,\"#ed7953\"],[0.7777777777777778,\"#fb9f3a\"],[0.8888888888888888,\"#fdca26\"],[1.0,\"#f0f921\"]],\"diverging\":[[0,\"#8e0152\"],[0.1,\"#c51b7d\"],[0.2,\"#de77ae\"],[0.3,\"#f1b6da\"],[0.4,\"#fde0ef\"],[0.5,\"#f7f7f7\"],[0.6,\"#e6f5d0\"],[0.7,\"#b8e186\"],[0.8,\"#7fbc41\"],[0.9,\"#4d9221\"],[1,\"#276419\"]]},\"xaxis\":{\"gridcolor\":\"white\",\"linecolor\":\"white\",\"ticks\":\"\",\"title\":{\"standoff\":15},\"zerolinecolor\":\"white\",\"automargin\":true,\"zerolinewidth\":2},\"yaxis\":{\"gridcolor\":\"white\",\"linecolor\":\"white\",\"ticks\":\"\",\"title\":{\"standoff\":15},\"zerolinecolor\":\"white\",\"automargin\":true,\"zerolinewidth\":2},\"scene\":{\"xaxis\":{\"backgroundcolor\":\"#E5ECF6\",\"gridcolor\":\"white\",\"linecolor\":\"white\",\"showbackground\":true,\"ticks\":\"\",\"zerolinecolor\":\"white\",\"gridwidth\":2},\"yaxis\":{\"backgroundcolor\":\"#E5ECF6\",\"gridcolor\":\"white\",\"linecolor\":\"white\",\"showbackground\":true,\"ticks\":\"\",\"zerolinecolor\":\"white\",\"gridwidth\":2},\"zaxis\":{\"backgroundcolor\":\"#E5ECF6\",\"gridcolor\":\"white\",\"linecolor\":\"white\",\"showbackground\":true,\"ticks\":\"\",\"zerolinecolor\":\"white\",\"gridwidth\":2}},\"shapedefaults\":{\"line\":{\"color\":\"#2a3f5f\"}},\"annotationdefaults\":{\"arrowcolor\":\"#2a3f5f\",\"arrowhead\":0,\"arrowwidth\":1},\"geo\":{\"bgcolor\":\"white\",\"landcolor\":\"#E5ECF6\",\"subunitcolor\":\"white\",\"showland\":true,\"showlakes\":true,\"lakecolor\":\"white\"},\"title\":{\"x\":0.05},\"mapbox\":{\"style\":\"light\"}}}},                        {\"responsive\": true}                    ).then(function(){\n",
              "                            \n",
              "var gd = document.getElementById('452a0bf8-d6b5-4052-a361-8e867bd91626');\n",
              "var x = new MutationObserver(function (mutations, observer) {{\n",
              "        var display = window.getComputedStyle(gd).display;\n",
              "        if (!display || display === 'none') {{\n",
              "            console.log([gd, 'removed!']);\n",
              "            Plotly.purge(gd);\n",
              "            observer.disconnect();\n",
              "        }}\n",
              "}});\n",
              "\n",
              "// Listen for the removal of the full notebook cells\n",
              "var notebookContainer = gd.closest('#notebook-container');\n",
              "if (notebookContainer) {{\n",
              "    x.observe(notebookContainer, {childList: true});\n",
              "}}\n",
              "\n",
              "// Listen for the clearing of the current output cell\n",
              "var outputEl = gd.closest('.output');\n",
              "if (outputEl) {{\n",
              "    x.observe(outputEl, {childList: true});\n",
              "}}\n",
              "\n",
              "                        })                };                            </script>        </div>\n",
              "</body>\n",
              "</html>"
            ]
          },
          "metadata": {}
        }
      ]
    },
    {
      "cell_type": "code",
      "source": [
        "maxdivIndexReturn = wMaxDiv.mul(returns).sum(axis = 1)\n",
        "maxdivIndex = (1 + maxdivIndexReturn).cumprod()\n",
        "\n",
        "index_df['Max Diversification'] = maxdivIndex"
      ],
      "metadata": {
        "id": "D2KI1cogfvU6"
      },
      "execution_count": 13,
      "outputs": []
    },
    {
      "cell_type": "code",
      "source": [
        "#Equal Risk Contribution\n",
        "def ERCfunc(w, sigma):\n",
        "    x = 0\n",
        "    R = np.dot(sigma, w)\n",
        "    for i in range(len(w)):\n",
        "        for j in range(len(w)):\n",
        "            x = x + (w[i]*R[i] - w[j]*R[j])**2\n",
        "    return x"
      ],
      "metadata": {
        "id": "8mi3Ow--fwuT"
      },
      "execution_count": 14,
      "outputs": []
    },
    {
      "cell_type": "code",
      "source": [
        "wERC = pd.DataFrame(index = market_cap.index, columns = market_cap.columns)\n",
        "window_covariance_matrix = 36\n",
        "num_periods = wERC.shape[0]\n",
        "\n",
        "lb = 0.0\n",
        "ub = 0.3\n",
        "\n",
        "startTime = time.time()\n",
        "\n",
        "for row in range(window_covariance_matrix+1, num_periods):\n",
        "  retour = returns.iloc[row-window_covariance_matrix:row,]\n",
        "  valid = retour.notna().all().to_list()\n",
        "  retour_noNan = retour.dropna(axis = 1)\n",
        "\n",
        "  wERCnp = np.zeros(retour.shape[1])\n",
        "\n",
        "  num_assets = retour_noNan.shape[1]\n",
        "  sigma =  retour_noNan.cov()\n",
        "  e = np.ones((num_assets, 1))\n",
        "  x0 = np.ones((num_assets, 1)) / num_assets\n",
        "\n",
        "  objfunctionERC = lambda x: ERCfunc(x, sigma)\n",
        "\n",
        "  Aeq = e.T\n",
        "  beq = 1\n",
        "  equation_cons1 = lambda x: (Aeq @ x) - beq\n",
        "  cons_1 = ({'type':'eq', 'fun':equation_cons1})\n",
        "\n",
        "  result = minimize(objfunctionERC, x0, method = 'SLSQP', tol=1e-8, bounds = [(lb,ub)]*num_assets, constraints = cons_1)\n",
        "\n",
        "  wERCnp[valid] = result.x\n",
        "  wERC.iloc[row] = wERCnp\n",
        "\n",
        "print(f\"Time to execute: {time.time() - startTime:.0f} seconds\")"
      ],
      "metadata": {
        "colab": {
          "base_uri": "https://localhost:8080/"
        },
        "id": "lrZl954pfyTR",
        "outputId": "bb23d605-8d8b-4c82-88e1-2ae64902d1b7"
      },
      "execution_count": 15,
      "outputs": [
        {
          "output_type": "stream",
          "name": "stdout",
          "text": [
            "Time to execute: 14 seconds\n"
          ]
        }
      ]
    },
    {
      "cell_type": "code",
      "source": [
        "fig_weights.add_trace(go.Bar(x = wEW.columns, y = wERC.iloc[-1], name = 'Equal Risk Contribution'))\n",
        "fig_weights.show()"
      ],
      "metadata": {
        "colab": {
          "base_uri": "https://localhost:8080/",
          "height": 542
        },
        "id": "pINteQ0df0ZK",
        "outputId": "d9ff0665-4e91-467d-b94e-777b9781f860"
      },
      "execution_count": 16,
      "outputs": [
        {
          "output_type": "display_data",
          "data": {
            "text/html": [
              "<html>\n",
              "<head><meta charset=\"utf-8\" /></head>\n",
              "<body>\n",
              "    <div>            <script src=\"https://cdnjs.cloudflare.com/ajax/libs/mathjax/2.7.5/MathJax.js?config=TeX-AMS-MML_SVG\"></script><script type=\"text/javascript\">if (window.MathJax && window.MathJax.Hub && window.MathJax.Hub.Config) {window.MathJax.Hub.Config({SVG: {font: \"STIX-Web\"}});}</script>                <script type=\"text/javascript\">window.PlotlyConfig = {MathJaxConfig: 'local'};</script>\n",
              "        <script src=\"https://cdn.plot.ly/plotly-2.18.2.min.js\"></script>                <div id=\"e7eb9c07-5ecd-4650-8025-4d22064f0484\" class=\"plotly-graph-div\" style=\"height:525px; width:100%;\"></div>            <script type=\"text/javascript\">                                    window.PLOTLYENV=window.PLOTLYENV || {};                                    if (document.getElementById(\"e7eb9c07-5ecd-4650-8025-4d22064f0484\")) {                    Plotly.newPlot(                        \"e7eb9c07-5ecd-4650-8025-4d22064f0484\",                        [{\"name\":\"Equal weights\",\"x\":[\"SGS 'N'\",\"SWISSCOM 'R'\",\"GIVAUDAN 'N'\",\"ZURICH INSURANCE GROUP\",\"NOVARTIS 'R'\",\"ROCHE HOLDING\",\"CREDIT SUISSE GROUP\",\"HOLCIM\",\"ABB LTD N\",\"THE SWATCH GROUP\",\"LONZA GROUP\",\"SWISS LIFE HOLDING\",\"PARTNERS GROUP HOLDING\",\"GEBERIT 'R'\",\"NESTLE 'N'\",\"SWISS RE\",\"RICHEMONT N\",\"UBS GROUP\",\"SIKA\",\"ALCON (SWX) ORD SHS\"],\"y\":[0.05,0.05,0.05,0.05,0.05,0.05,0.05,0.05,0.05,0.05,0.05,0.05,0.05,0.05,0.05,0.05,0.05,0.05,0.05,0.05],\"type\":\"bar\"},{\"name\":\"MinVar Weights\",\"x\":[\"SGS 'N'\",\"SWISSCOM 'R'\",\"GIVAUDAN 'N'\",\"ZURICH INSURANCE GROUP\",\"NOVARTIS 'R'\",\"ROCHE HOLDING\",\"CREDIT SUISSE GROUP\",\"HOLCIM\",\"ABB LTD N\",\"THE SWATCH GROUP\",\"LONZA GROUP\",\"SWISS LIFE HOLDING\",\"PARTNERS GROUP HOLDING\",\"GEBERIT 'R'\",\"NESTLE 'N'\",\"SWISS RE\",\"RICHEMONT N\",\"UBS GROUP\",\"SIKA\",\"ALCON (SWX) ORD SHS\"],\"y\":[1.636663383886511e-17,0.29999999999999993,0.0,0.06371949684274773,2.999777418017188e-17,0.20325177198202735,0.024232372326503455,2.685896252410133e-19,1.0698086084596538e-18,0.04534689947410788,0.08192593616565916,2.249836383217172e-18,1.60439316377438e-18,0.0077603166308828535,0.2048849181816793,0.0,0.0,0.0,0.06887828839639244,0.0],\"type\":\"bar\"},{\"name\":\"Max Diversification\",\"x\":[\"SGS 'N'\",\"SWISSCOM 'R'\",\"GIVAUDAN 'N'\",\"ZURICH INSURANCE GROUP\",\"NOVARTIS 'R'\",\"ROCHE HOLDING\",\"CREDIT SUISSE GROUP\",\"HOLCIM\",\"ABB LTD N\",\"THE SWATCH GROUP\",\"LONZA GROUP\",\"SWISS LIFE HOLDING\",\"PARTNERS GROUP HOLDING\",\"GEBERIT 'R'\",\"NESTLE 'N'\",\"SWISS RE\",\"RICHEMONT N\",\"UBS GROUP\",\"SIKA\",\"ALCON (SWX) ORD SHS\"],\"y\":[0.0,0.3,0.0,0.0,0.0,0.036460198917631706,0.2690089775999225,0.0,9.981744898238417e-18,0.005190734497603146,0.1867910461796421,1.7887858647650647e-17,0.0,0.0,0.08006338489488592,3.099617270189742e-18,0.0333358037373252,0.0,0.08914985417298954,0.0],\"type\":\"bar\"},{\"name\":\"Equal Risk Contribution\",\"x\":[\"SGS 'N'\",\"SWISSCOM 'R'\",\"GIVAUDAN 'N'\",\"ZURICH INSURANCE GROUP\",\"NOVARTIS 'R'\",\"ROCHE HOLDING\",\"CREDIT SUISSE GROUP\",\"HOLCIM\",\"ABB LTD N\",\"THE SWATCH GROUP\",\"LONZA GROUP\",\"SWISS LIFE HOLDING\",\"PARTNERS GROUP HOLDING\",\"GEBERIT 'R'\",\"NESTLE 'N'\",\"SWISS RE\",\"RICHEMONT N\",\"UBS GROUP\",\"SIKA\",\"ALCON (SWX) ORD SHS\"],\"y\":[0.05263157894736842,0.05263157894736842,0.05263157894736842,0.05263157894736842,0.05263157894736842,0.05263157894736842,0.05263157894736842,0.05263157894736842,0.05263157894736842,0.05263157894736842,0.05263157894736842,0.05263157894736842,0.05263157894736842,0.05263157894736842,0.05263157894736842,0.05263157894736842,0.05263157894736842,0.05263157894736842,0.05263157894736842,0.0],\"type\":\"bar\"}],                        {\"template\":{\"data\":{\"histogram2dcontour\":[{\"type\":\"histogram2dcontour\",\"colorbar\":{\"outlinewidth\":0,\"ticks\":\"\"},\"colorscale\":[[0.0,\"#0d0887\"],[0.1111111111111111,\"#46039f\"],[0.2222222222222222,\"#7201a8\"],[0.3333333333333333,\"#9c179e\"],[0.4444444444444444,\"#bd3786\"],[0.5555555555555556,\"#d8576b\"],[0.6666666666666666,\"#ed7953\"],[0.7777777777777778,\"#fb9f3a\"],[0.8888888888888888,\"#fdca26\"],[1.0,\"#f0f921\"]]}],\"choropleth\":[{\"type\":\"choropleth\",\"colorbar\":{\"outlinewidth\":0,\"ticks\":\"\"}}],\"histogram2d\":[{\"type\":\"histogram2d\",\"colorbar\":{\"outlinewidth\":0,\"ticks\":\"\"},\"colorscale\":[[0.0,\"#0d0887\"],[0.1111111111111111,\"#46039f\"],[0.2222222222222222,\"#7201a8\"],[0.3333333333333333,\"#9c179e\"],[0.4444444444444444,\"#bd3786\"],[0.5555555555555556,\"#d8576b\"],[0.6666666666666666,\"#ed7953\"],[0.7777777777777778,\"#fb9f3a\"],[0.8888888888888888,\"#fdca26\"],[1.0,\"#f0f921\"]]}],\"heatmap\":[{\"type\":\"heatmap\",\"colorbar\":{\"outlinewidth\":0,\"ticks\":\"\"},\"colorscale\":[[0.0,\"#0d0887\"],[0.1111111111111111,\"#46039f\"],[0.2222222222222222,\"#7201a8\"],[0.3333333333333333,\"#9c179e\"],[0.4444444444444444,\"#bd3786\"],[0.5555555555555556,\"#d8576b\"],[0.6666666666666666,\"#ed7953\"],[0.7777777777777778,\"#fb9f3a\"],[0.8888888888888888,\"#fdca26\"],[1.0,\"#f0f921\"]]}],\"heatmapgl\":[{\"type\":\"heatmapgl\",\"colorbar\":{\"outlinewidth\":0,\"ticks\":\"\"},\"colorscale\":[[0.0,\"#0d0887\"],[0.1111111111111111,\"#46039f\"],[0.2222222222222222,\"#7201a8\"],[0.3333333333333333,\"#9c179e\"],[0.4444444444444444,\"#bd3786\"],[0.5555555555555556,\"#d8576b\"],[0.6666666666666666,\"#ed7953\"],[0.7777777777777778,\"#fb9f3a\"],[0.8888888888888888,\"#fdca26\"],[1.0,\"#f0f921\"]]}],\"contourcarpet\":[{\"type\":\"contourcarpet\",\"colorbar\":{\"outlinewidth\":0,\"ticks\":\"\"}}],\"contour\":[{\"type\":\"contour\",\"colorbar\":{\"outlinewidth\":0,\"ticks\":\"\"},\"colorscale\":[[0.0,\"#0d0887\"],[0.1111111111111111,\"#46039f\"],[0.2222222222222222,\"#7201a8\"],[0.3333333333333333,\"#9c179e\"],[0.4444444444444444,\"#bd3786\"],[0.5555555555555556,\"#d8576b\"],[0.6666666666666666,\"#ed7953\"],[0.7777777777777778,\"#fb9f3a\"],[0.8888888888888888,\"#fdca26\"],[1.0,\"#f0f921\"]]}],\"surface\":[{\"type\":\"surface\",\"colorbar\":{\"outlinewidth\":0,\"ticks\":\"\"},\"colorscale\":[[0.0,\"#0d0887\"],[0.1111111111111111,\"#46039f\"],[0.2222222222222222,\"#7201a8\"],[0.3333333333333333,\"#9c179e\"],[0.4444444444444444,\"#bd3786\"],[0.5555555555555556,\"#d8576b\"],[0.6666666666666666,\"#ed7953\"],[0.7777777777777778,\"#fb9f3a\"],[0.8888888888888888,\"#fdca26\"],[1.0,\"#f0f921\"]]}],\"mesh3d\":[{\"type\":\"mesh3d\",\"colorbar\":{\"outlinewidth\":0,\"ticks\":\"\"}}],\"scatter\":[{\"fillpattern\":{\"fillmode\":\"overlay\",\"size\":10,\"solidity\":0.2},\"type\":\"scatter\"}],\"parcoords\":[{\"type\":\"parcoords\",\"line\":{\"colorbar\":{\"outlinewidth\":0,\"ticks\":\"\"}}}],\"scatterpolargl\":[{\"type\":\"scatterpolargl\",\"marker\":{\"colorbar\":{\"outlinewidth\":0,\"ticks\":\"\"}}}],\"bar\":[{\"error_x\":{\"color\":\"#2a3f5f\"},\"error_y\":{\"color\":\"#2a3f5f\"},\"marker\":{\"line\":{\"color\":\"#E5ECF6\",\"width\":0.5},\"pattern\":{\"fillmode\":\"overlay\",\"size\":10,\"solidity\":0.2}},\"type\":\"bar\"}],\"scattergeo\":[{\"type\":\"scattergeo\",\"marker\":{\"colorbar\":{\"outlinewidth\":0,\"ticks\":\"\"}}}],\"scatterpolar\":[{\"type\":\"scatterpolar\",\"marker\":{\"colorbar\":{\"outlinewidth\":0,\"ticks\":\"\"}}}],\"histogram\":[{\"marker\":{\"pattern\":{\"fillmode\":\"overlay\",\"size\":10,\"solidity\":0.2}},\"type\":\"histogram\"}],\"scattergl\":[{\"type\":\"scattergl\",\"marker\":{\"colorbar\":{\"outlinewidth\":0,\"ticks\":\"\"}}}],\"scatter3d\":[{\"type\":\"scatter3d\",\"line\":{\"colorbar\":{\"outlinewidth\":0,\"ticks\":\"\"}},\"marker\":{\"colorbar\":{\"outlinewidth\":0,\"ticks\":\"\"}}}],\"scattermapbox\":[{\"type\":\"scattermapbox\",\"marker\":{\"colorbar\":{\"outlinewidth\":0,\"ticks\":\"\"}}}],\"scatterternary\":[{\"type\":\"scatterternary\",\"marker\":{\"colorbar\":{\"outlinewidth\":0,\"ticks\":\"\"}}}],\"scattercarpet\":[{\"type\":\"scattercarpet\",\"marker\":{\"colorbar\":{\"outlinewidth\":0,\"ticks\":\"\"}}}],\"carpet\":[{\"aaxis\":{\"endlinecolor\":\"#2a3f5f\",\"gridcolor\":\"white\",\"linecolor\":\"white\",\"minorgridcolor\":\"white\",\"startlinecolor\":\"#2a3f5f\"},\"baxis\":{\"endlinecolor\":\"#2a3f5f\",\"gridcolor\":\"white\",\"linecolor\":\"white\",\"minorgridcolor\":\"white\",\"startlinecolor\":\"#2a3f5f\"},\"type\":\"carpet\"}],\"table\":[{\"cells\":{\"fill\":{\"color\":\"#EBF0F8\"},\"line\":{\"color\":\"white\"}},\"header\":{\"fill\":{\"color\":\"#C8D4E3\"},\"line\":{\"color\":\"white\"}},\"type\":\"table\"}],\"barpolar\":[{\"marker\":{\"line\":{\"color\":\"#E5ECF6\",\"width\":0.5},\"pattern\":{\"fillmode\":\"overlay\",\"size\":10,\"solidity\":0.2}},\"type\":\"barpolar\"}],\"pie\":[{\"automargin\":true,\"type\":\"pie\"}]},\"layout\":{\"autotypenumbers\":\"strict\",\"colorway\":[\"#636efa\",\"#EF553B\",\"#00cc96\",\"#ab63fa\",\"#FFA15A\",\"#19d3f3\",\"#FF6692\",\"#B6E880\",\"#FF97FF\",\"#FECB52\"],\"font\":{\"color\":\"#2a3f5f\"},\"hovermode\":\"closest\",\"hoverlabel\":{\"align\":\"left\"},\"paper_bgcolor\":\"white\",\"plot_bgcolor\":\"#E5ECF6\",\"polar\":{\"bgcolor\":\"#E5ECF6\",\"angularaxis\":{\"gridcolor\":\"white\",\"linecolor\":\"white\",\"ticks\":\"\"},\"radialaxis\":{\"gridcolor\":\"white\",\"linecolor\":\"white\",\"ticks\":\"\"}},\"ternary\":{\"bgcolor\":\"#E5ECF6\",\"aaxis\":{\"gridcolor\":\"white\",\"linecolor\":\"white\",\"ticks\":\"\"},\"baxis\":{\"gridcolor\":\"white\",\"linecolor\":\"white\",\"ticks\":\"\"},\"caxis\":{\"gridcolor\":\"white\",\"linecolor\":\"white\",\"ticks\":\"\"}},\"coloraxis\":{\"colorbar\":{\"outlinewidth\":0,\"ticks\":\"\"}},\"colorscale\":{\"sequential\":[[0.0,\"#0d0887\"],[0.1111111111111111,\"#46039f\"],[0.2222222222222222,\"#7201a8\"],[0.3333333333333333,\"#9c179e\"],[0.4444444444444444,\"#bd3786\"],[0.5555555555555556,\"#d8576b\"],[0.6666666666666666,\"#ed7953\"],[0.7777777777777778,\"#fb9f3a\"],[0.8888888888888888,\"#fdca26\"],[1.0,\"#f0f921\"]],\"sequentialminus\":[[0.0,\"#0d0887\"],[0.1111111111111111,\"#46039f\"],[0.2222222222222222,\"#7201a8\"],[0.3333333333333333,\"#9c179e\"],[0.4444444444444444,\"#bd3786\"],[0.5555555555555556,\"#d8576b\"],[0.6666666666666666,\"#ed7953\"],[0.7777777777777778,\"#fb9f3a\"],[0.8888888888888888,\"#fdca26\"],[1.0,\"#f0f921\"]],\"diverging\":[[0,\"#8e0152\"],[0.1,\"#c51b7d\"],[0.2,\"#de77ae\"],[0.3,\"#f1b6da\"],[0.4,\"#fde0ef\"],[0.5,\"#f7f7f7\"],[0.6,\"#e6f5d0\"],[0.7,\"#b8e186\"],[0.8,\"#7fbc41\"],[0.9,\"#4d9221\"],[1,\"#276419\"]]},\"xaxis\":{\"gridcolor\":\"white\",\"linecolor\":\"white\",\"ticks\":\"\",\"title\":{\"standoff\":15},\"zerolinecolor\":\"white\",\"automargin\":true,\"zerolinewidth\":2},\"yaxis\":{\"gridcolor\":\"white\",\"linecolor\":\"white\",\"ticks\":\"\",\"title\":{\"standoff\":15},\"zerolinecolor\":\"white\",\"automargin\":true,\"zerolinewidth\":2},\"scene\":{\"xaxis\":{\"backgroundcolor\":\"#E5ECF6\",\"gridcolor\":\"white\",\"linecolor\":\"white\",\"showbackground\":true,\"ticks\":\"\",\"zerolinecolor\":\"white\",\"gridwidth\":2},\"yaxis\":{\"backgroundcolor\":\"#E5ECF6\",\"gridcolor\":\"white\",\"linecolor\":\"white\",\"showbackground\":true,\"ticks\":\"\",\"zerolinecolor\":\"white\",\"gridwidth\":2},\"zaxis\":{\"backgroundcolor\":\"#E5ECF6\",\"gridcolor\":\"white\",\"linecolor\":\"white\",\"showbackground\":true,\"ticks\":\"\",\"zerolinecolor\":\"white\",\"gridwidth\":2}},\"shapedefaults\":{\"line\":{\"color\":\"#2a3f5f\"}},\"annotationdefaults\":{\"arrowcolor\":\"#2a3f5f\",\"arrowhead\":0,\"arrowwidth\":1},\"geo\":{\"bgcolor\":\"white\",\"landcolor\":\"#E5ECF6\",\"subunitcolor\":\"white\",\"showland\":true,\"showlakes\":true,\"lakecolor\":\"white\"},\"title\":{\"x\":0.05},\"mapbox\":{\"style\":\"light\"}}}},                        {\"responsive\": true}                    ).then(function(){\n",
              "                            \n",
              "var gd = document.getElementById('e7eb9c07-5ecd-4650-8025-4d22064f0484');\n",
              "var x = new MutationObserver(function (mutations, observer) {{\n",
              "        var display = window.getComputedStyle(gd).display;\n",
              "        if (!display || display === 'none') {{\n",
              "            console.log([gd, 'removed!']);\n",
              "            Plotly.purge(gd);\n",
              "            observer.disconnect();\n",
              "        }}\n",
              "}});\n",
              "\n",
              "// Listen for the removal of the full notebook cells\n",
              "var notebookContainer = gd.closest('#notebook-container');\n",
              "if (notebookContainer) {{\n",
              "    x.observe(notebookContainer, {childList: true});\n",
              "}}\n",
              "\n",
              "// Listen for the clearing of the current output cell\n",
              "var outputEl = gd.closest('.output');\n",
              "if (outputEl) {{\n",
              "    x.observe(outputEl, {childList: true});\n",
              "}}\n",
              "\n",
              "                        })                };                            </script>        </div>\n",
              "</body>\n",
              "</html>"
            ]
          },
          "metadata": {}
        }
      ]
    },
    {
      "cell_type": "code",
      "source": [
        "ercIndexreturn = wERC.mul(returns).sum(axis = 1)\n",
        "ercIndex = (1+ercIndexreturn).cumprod()\n",
        "\n",
        "index_df['Equal Risk Contribution'] = ercIndex"
      ],
      "metadata": {
        "id": "hDP7TCHcf1-g"
      },
      "execution_count": 17,
      "outputs": []
    },
    {
      "cell_type": "code",
      "source": [
        "fig_graph = go.Figure()\n",
        "fig_graph.add_trace(go.Scatter(x = index_df.index, y = index_df['Official SMI'], name = 'Official SMI'))\n",
        "fig_graph.add_trace(go.Scatter(x = index_df.index, y = index_df['Equal Weighted'], name = 'EW'))\n",
        "fig_graph.add_trace(go.Scatter(x = index_df.index, y = index_df['Min Variance'], name = 'MVP'))\n",
        "fig_graph.add_trace(go.Scatter(x = index_df.index, y = index_df['Max Diversification'], name = 'MDP'))\n",
        "fig_graph.add_trace(go.Scatter(x = index_df.index, y = index_df['Equal Risk Contribution'], name = 'ERC'))\n",
        "fig_graph.show()"
      ],
      "metadata": {
        "colab": {
          "base_uri": "https://localhost:8080/",
          "height": 542
        },
        "id": "88G7CsLMf3a4",
        "outputId": "03885651-c4e6-4a6a-b57b-1898593a977f"
      },
      "execution_count": 18,
      "outputs": [
        {
          "output_type": "display_data",
          "data": {
            "text/html": [
              "<html>\n",
              "<head><meta charset=\"utf-8\" /></head>\n",
              "<body>\n",
              "    <div>            <script src=\"https://cdnjs.cloudflare.com/ajax/libs/mathjax/2.7.5/MathJax.js?config=TeX-AMS-MML_SVG\"></script><script type=\"text/javascript\">if (window.MathJax && window.MathJax.Hub && window.MathJax.Hub.Config) {window.MathJax.Hub.Config({SVG: {font: \"STIX-Web\"}});}</script>                <script type=\"text/javascript\">window.PlotlyConfig = {MathJaxConfig: 'local'};</script>\n",
              "        <script src=\"https://cdn.plot.ly/plotly-2.18.2.min.js\"></script>                <div id=\"8ff21c07-5970-49fb-9ee5-80150f5e4a9f\" class=\"plotly-graph-div\" style=\"height:525px; width:100%;\"></div>            <script type=\"text/javascript\">                                    window.PLOTLYENV=window.PLOTLYENV || {};                                    if (document.getElementById(\"8ff21c07-5970-49fb-9ee5-80150f5e4a9f\")) {                    Plotly.newPlot(                        \"8ff21c07-5970-49fb-9ee5-80150f5e4a9f\",                        [{\"name\":\"Official SMI\",\"x\":[\"1999-12-31T00:00:00\",\"2000-01-31T00:00:00\",\"2000-02-29T00:00:00\",\"2000-03-31T00:00:00\",\"2000-04-28T00:00:00\",\"2000-05-31T00:00:00\",\"2000-06-30T00:00:00\",\"2000-07-31T00:00:00\",\"2000-08-31T00:00:00\",\"2000-09-29T00:00:00\",\"2000-10-31T00:00:00\",\"2000-11-30T00:00:00\",\"2000-12-29T00:00:00\",\"2001-01-31T00:00:00\",\"2001-02-28T00:00:00\",\"2001-03-30T00:00:00\",\"2001-04-30T00:00:00\",\"2001-05-31T00:00:00\",\"2001-06-29T00:00:00\",\"2001-07-31T00:00:00\",\"2001-08-31T00:00:00\",\"2001-09-28T00:00:00\",\"2001-10-31T00:00:00\",\"2001-11-30T00:00:00\",\"2001-12-31T00:00:00\",\"2002-01-31T00:00:00\",\"2002-02-28T00:00:00\",\"2002-03-29T00:00:00\",\"2002-04-30T00:00:00\",\"2002-05-31T00:00:00\",\"2002-06-28T00:00:00\",\"2002-07-31T00:00:00\",\"2002-08-30T00:00:00\",\"2002-09-30T00:00:00\",\"2002-10-31T00:00:00\",\"2002-11-29T00:00:00\",\"2002-12-31T00:00:00\",\"2003-01-31T00:00:00\",\"2003-02-28T00:00:00\",\"2003-03-31T00:00:00\",\"2003-04-30T00:00:00\",\"2003-05-30T00:00:00\",\"2003-06-30T00:00:00\",\"2003-07-31T00:00:00\",\"2003-08-29T00:00:00\",\"2003-09-30T00:00:00\",\"2003-10-31T00:00:00\",\"2003-11-28T00:00:00\",\"2003-12-31T00:00:00\",\"2004-01-30T00:00:00\",\"2004-02-27T00:00:00\",\"2004-03-31T00:00:00\",\"2004-04-30T00:00:00\",\"2004-05-31T00:00:00\",\"2004-06-30T00:00:00\",\"2004-07-30T00:00:00\",\"2004-08-31T00:00:00\",\"2004-09-30T00:00:00\",\"2004-10-29T00:00:00\",\"2004-11-30T00:00:00\",\"2004-12-31T00:00:00\",\"2005-01-31T00:00:00\",\"2005-02-28T00:00:00\",\"2005-03-31T00:00:00\",\"2005-04-29T00:00:00\",\"2005-05-31T00:00:00\",\"2005-06-30T00:00:00\",\"2005-07-29T00:00:00\",\"2005-08-31T00:00:00\",\"2005-09-30T00:00:00\",\"2005-10-31T00:00:00\",\"2005-11-30T00:00:00\",\"2005-12-30T00:00:00\",\"2006-01-31T00:00:00\",\"2006-02-28T00:00:00\",\"2006-03-31T00:00:00\",\"2006-04-28T00:00:00\",\"2006-05-31T00:00:00\",\"2006-06-30T00:00:00\",\"2006-07-31T00:00:00\",\"2006-08-31T00:00:00\",\"2006-09-29T00:00:00\",\"2006-10-31T00:00:00\",\"2006-11-30T00:00:00\",\"2006-12-29T00:00:00\",\"2007-01-31T00:00:00\",\"2007-02-28T00:00:00\",\"2007-03-30T00:00:00\",\"2007-04-30T00:00:00\",\"2007-05-31T00:00:00\",\"2007-06-29T00:00:00\",\"2007-07-31T00:00:00\",\"2007-08-31T00:00:00\",\"2007-09-28T00:00:00\",\"2007-10-31T00:00:00\",\"2007-11-30T00:00:00\",\"2007-12-31T00:00:00\",\"2008-01-31T00:00:00\",\"2008-02-29T00:00:00\",\"2008-03-31T00:00:00\",\"2008-04-30T00:00:00\",\"2008-05-30T00:00:00\",\"2008-06-30T00:00:00\",\"2008-07-31T00:00:00\",\"2008-08-29T00:00:00\",\"2008-09-30T00:00:00\",\"2008-10-31T00:00:00\",\"2008-11-28T00:00:00\",\"2008-12-31T00:00:00\",\"2009-01-30T00:00:00\",\"2009-02-27T00:00:00\",\"2009-03-31T00:00:00\",\"2009-04-30T00:00:00\",\"2009-05-29T00:00:00\",\"2009-06-30T00:00:00\",\"2009-07-31T00:00:00\",\"2009-08-31T00:00:00\",\"2009-09-30T00:00:00\",\"2009-10-30T00:00:00\",\"2009-11-30T00:00:00\",\"2009-12-31T00:00:00\",\"2010-01-29T00:00:00\",\"2010-02-26T00:00:00\",\"2010-03-31T00:00:00\",\"2010-04-30T00:00:00\",\"2010-05-31T00:00:00\",\"2010-06-30T00:00:00\",\"2010-07-30T00:00:00\",\"2010-08-31T00:00:00\",\"2010-09-30T00:00:00\",\"2010-10-29T00:00:00\",\"2010-11-30T00:00:00\",\"2010-12-31T00:00:00\",\"2011-01-31T00:00:00\",\"2011-02-28T00:00:00\",\"2011-03-31T00:00:00\",\"2011-04-29T00:00:00\",\"2011-05-31T00:00:00\",\"2011-06-30T00:00:00\",\"2011-07-29T00:00:00\",\"2011-08-31T00:00:00\",\"2011-09-30T00:00:00\",\"2011-10-31T00:00:00\",\"2011-11-30T00:00:00\",\"2011-12-30T00:00:00\",\"2012-01-31T00:00:00\",\"2012-02-29T00:00:00\",\"2012-03-30T00:00:00\",\"2012-04-30T00:00:00\",\"2012-05-31T00:00:00\",\"2012-06-29T00:00:00\",\"2012-07-31T00:00:00\",\"2012-08-31T00:00:00\",\"2012-09-28T00:00:00\",\"2012-10-31T00:00:00\",\"2012-11-30T00:00:00\",\"2012-12-31T00:00:00\",\"2013-01-31T00:00:00\",\"2013-02-28T00:00:00\",\"2013-03-29T00:00:00\",\"2013-04-30T00:00:00\",\"2013-05-31T00:00:00\",\"2013-06-28T00:00:00\",\"2013-07-31T00:00:00\",\"2013-08-30T00:00:00\",\"2013-09-30T00:00:00\",\"2013-10-31T00:00:00\",\"2013-11-29T00:00:00\",\"2013-12-31T00:00:00\",\"2014-01-31T00:00:00\",\"2014-02-28T00:00:00\",\"2014-03-31T00:00:00\",\"2014-04-30T00:00:00\",\"2014-05-30T00:00:00\",\"2014-06-30T00:00:00\",\"2014-07-31T00:00:00\",\"2014-08-29T00:00:00\",\"2014-09-30T00:00:00\",\"2014-10-31T00:00:00\",\"2014-11-28T00:00:00\",\"2014-12-31T00:00:00\",\"2015-01-30T00:00:00\",\"2015-02-27T00:00:00\",\"2015-03-31T00:00:00\",\"2015-04-30T00:00:00\",\"2015-05-29T00:00:00\",\"2015-06-30T00:00:00\",\"2015-07-31T00:00:00\",\"2015-08-31T00:00:00\",\"2015-09-30T00:00:00\",\"2015-10-30T00:00:00\",\"2015-11-30T00:00:00\",\"2015-12-31T00:00:00\",\"2016-01-29T00:00:00\",\"2016-02-29T00:00:00\",\"2016-03-31T00:00:00\",\"2016-04-29T00:00:00\",\"2016-05-31T00:00:00\",\"2016-06-30T00:00:00\",\"2016-07-29T00:00:00\",\"2016-08-31T00:00:00\",\"2016-09-30T00:00:00\",\"2016-10-31T00:00:00\",\"2016-11-30T00:00:00\",\"2016-12-30T00:00:00\",\"2017-01-31T00:00:00\",\"2017-02-28T00:00:00\",\"2017-03-31T00:00:00\",\"2017-04-28T00:00:00\",\"2017-05-31T00:00:00\",\"2017-06-30T00:00:00\",\"2017-07-31T00:00:00\",\"2017-08-31T00:00:00\",\"2017-09-29T00:00:00\",\"2017-10-31T00:00:00\",\"2017-11-30T00:00:00\",\"2017-12-29T00:00:00\",\"2018-01-31T00:00:00\",\"2018-02-28T00:00:00\",\"2018-03-30T00:00:00\",\"2018-04-30T00:00:00\",\"2018-05-31T00:00:00\",\"2018-06-29T00:00:00\",\"2018-07-31T00:00:00\",\"2018-08-31T00:00:00\",\"2018-09-28T00:00:00\",\"2018-10-31T00:00:00\",\"2018-11-30T00:00:00\",\"2018-12-31T00:00:00\",\"2019-01-31T00:00:00\",\"2019-02-28T00:00:00\",\"2019-03-29T00:00:00\",\"2019-04-30T00:00:00\",\"2019-05-31T00:00:00\",\"2019-06-28T00:00:00\",\"2019-07-31T00:00:00\",\"2019-08-30T00:00:00\",\"2019-09-30T00:00:00\",\"2019-10-31T00:00:00\",\"2019-11-29T00:00:00\",\"2019-12-31T00:00:00\",\"2020-01-31T00:00:00\",\"2020-02-28T00:00:00\",\"2020-03-31T00:00:00\",\"2020-04-30T00:00:00\",\"2020-05-29T00:00:00\",\"2020-06-30T00:00:00\",\"2020-07-31T00:00:00\",\"2020-08-31T00:00:00\",\"2020-09-30T00:00:00\",\"2020-10-30T00:00:00\",\"2020-11-30T00:00:00\",\"2020-12-31T00:00:00\",\"2021-01-29T00:00:00\",\"2021-02-26T00:00:00\",\"2021-03-31T00:00:00\",\"2021-04-30T00:00:00\",\"2021-05-31T00:00:00\",\"2021-06-30T00:00:00\",\"2021-07-30T00:00:00\",\"2021-08-31T00:00:00\"],\"y\":[1.0,0.9107850407882191,0.9128085602288378,0.9822862591376205,0.9850619769043331,1.035734717660769,1.039654624430554,1.075548257230639,1.1019175760144082,1.0339972454709185,1.0716813221739592,1.0722746053607375,1.092891196101282,1.082423985591694,1.0346435003708019,0.9666596037715859,0.9915139315605467,1.0156372497086557,0.9832291556308932,0.9298760461913339,0.8938976586502807,0.8167390613412437,0.826009111134654,0.8471977963767348,0.8717660769149275,0.847240173747219,0.8629303951689797,0.9069075113889182,0.8976798389659922,0.9024578874880813,0.8208178832503443,0.7158173535332133,0.7229685348024155,0.6613094607479606,0.6842885898929971,0.7075643606314228,0.6402690963025744,0.6114736730585867,0.5735459264752621,0.5677826040894163,0.6388812374192181,0.6526009111134654,0.6785358618497722,0.7161139951266023,0.7224706006992265,0.7113889183176184,0.7350672740756437,0.7500370801991737,0.7740544549210722,0.8091111346540947,0.8208072889077234,0.7954126496450895,0.8259773281067909,0.8058480771268143,0.8048098315499523,0.795285517533637,0.7772857294204895,0.7839283822438817,0.7693081894268461,0.7808878059116432,0.8166013348871702,0.827831338065473,0.8507680898400254,0.8554243034219727,0.8549729844263163,0.8958565526009111,0.9144676342832927,0.9659900413179362,0.9537461595507999,1.010092170780803,1.030263799131264,1.0845640428011443,1.1103930501112407,1.1436211463078716,1.155590634601123,1.1809418370590106,1.1944379701239538,1.132413391249073,1.1397393791715225,1.184061870960907,1.2179468164000424,1.2570388812374194,1.2784934844792881,1.2657898082423986,1.3107193558639685,1.3628424621252253,1.3113115796164847,1.346884203835152,1.4296546244305541,1.4382339230850725,1.401556308931031,1.352455768619557,1.3522078610022248,1.3608337747642758,1.3739474520605996,1.3448204258925733,1.292434579934315,1.1684352155948723,1.1527291026591802,1.109644030087933,1.1737323869053926,1.1758607903379596,1.089399300773387,1.1202637991312638,1.1355630893103084,1.0447632164424199,0.9660027545290815,0.913158173535332,0.8688759402479076,0.8304947558004026,0.7432651763958047,0.7857887488081365,0.8444665748490306,0.8651975844898825,0.8739697001801038,0.9641413285305648,1.0073100964085178,1.024707066426528,1.0186439241445069,1.014623371119822,1.060803051170675,1.0437556944591588,1.0875548257230638,1.1271797859942791,1.0978037927746584,1.0511134654094711,1.0203845746371438,1.0341275558851573,1.0308104672105096,1.0503072359360102,1.0796493272592436,1.052993961224706,1.0736137302680369,1.080805170039199,1.1102171840237314,1.0744008899247801,1.1215298230744783,1.1291418582476958,1.066019705477275,0.9964593706960483,0.9528668291132536,0.9537631104989935,0.9881640004237737,0.9749051806335416,1.0238754105307766,1.0297849348447927,1.0624790761733234,1.0920298760461913,1.0863163470706643,1.0449157749761626,1.0836169085708232,1.1429907829219197,1.1409789172581841,1.1606663841508635,1.178400254264223,1.2186873609492532,1.2190147261362434,1.3205784511071088,1.3660546668079245,1.4141010700286047,1.453054348977646,1.4619610128191547,1.413400783981354,1.4386746477381078,1.4252473779002013,1.4769329378112088,1.515904227142706,1.5216876787795317,1.5104152982307448,1.5082710032842461,1.570854963449518,1.5764212310626127,1.5994755800402585,1.6453586184977222,1.622597732810679,1.5952357241233182,1.6427735988981884,1.6773344633965463,1.6778345163682593,1.7375961436592857,1.7058660875092702,1.5922661298866405,1.7121845534484585,1.7549072995020658,1.7668481830702403,1.8051647420277572,1.7162411272380549,1.8433901896387328,1.7254518487127875,1.6659084648797542,1.7491196101281914,1.759775399936434,1.725529187413921,1.628024155101176,1.5460864498357878,1.5493399724547092,1.603097785782392,1.6624070346435003,1.6226962601970547,1.6468895010064626,1.6620733128509375,1.6507416039834728,1.5876099163046933,1.5972348765759083,1.6671416463608433,1.6817078080305117,1.733248225447611,1.7837525161563725,1.8362548998834622,1.8869700180103826,1.864001483207967,1.8952759826252779,1.8681608221209873,1.9185570505350142,1.9363057527280434,1.952351944061871,1.9655726242186673,1.955836423349931,1.8659529611187626,1.8566013348871702,1.9148967051594448,1.8311950418476535,1.8641826464667868,1.9865303527916094,1.9430575272804322,1.969907829219197,1.9556393685771796,1.9590200233075536,1.827128933149698,1.94417417099269,2.0351403750397288,2.078745629833669,2.169889818836741,2.1310414238796485,2.214785464561924,2.219490412119928,2.214204894586291,2.257581311579617,2.289277465833245,2.350525479394004,2.3782349825193347,2.3806854539675815,2.2021866723169827,2.117320690751139,2.219715012183494,2.2743616908570825,2.3238234982519335,2.31511071088039,2.3451107108803897,2.3583419853798073,2.2194745206059965,2.4282943108380124,2.481695094819367,2.455623477063248,2.4396609810361265,2.5967062188791186,2.6211071088038986,2.707515626655366,2.845536603453756,2.887018751986439,2.9571384680580572],\"type\":\"scatter\"},{\"name\":\"EW\",\"x\":[\"1999-12-31T00:00:00\",\"2000-01-31T00:00:00\",\"2000-02-29T00:00:00\",\"2000-03-31T00:00:00\",\"2000-04-28T00:00:00\",\"2000-05-31T00:00:00\",\"2000-06-30T00:00:00\",\"2000-07-31T00:00:00\",\"2000-08-31T00:00:00\",\"2000-09-29T00:00:00\",\"2000-10-31T00:00:00\",\"2000-11-30T00:00:00\",\"2000-12-29T00:00:00\",\"2001-01-31T00:00:00\",\"2001-02-28T00:00:00\",\"2001-03-30T00:00:00\",\"2001-04-30T00:00:00\",\"2001-05-31T00:00:00\",\"2001-06-29T00:00:00\",\"2001-07-31T00:00:00\",\"2001-08-31T00:00:00\",\"2001-09-28T00:00:00\",\"2001-10-31T00:00:00\",\"2001-11-30T00:00:00\",\"2001-12-31T00:00:00\",\"2002-01-31T00:00:00\",\"2002-02-28T00:00:00\",\"2002-03-29T00:00:00\",\"2002-04-30T00:00:00\",\"2002-05-31T00:00:00\",\"2002-06-28T00:00:00\",\"2002-07-31T00:00:00\",\"2002-08-30T00:00:00\",\"2002-09-30T00:00:00\",\"2002-10-31T00:00:00\",\"2002-11-29T00:00:00\",\"2002-12-31T00:00:00\",\"2003-01-31T00:00:00\",\"2003-02-28T00:00:00\",\"2003-03-31T00:00:00\",\"2003-04-30T00:00:00\",\"2003-05-30T00:00:00\",\"2003-06-30T00:00:00\",\"2003-07-31T00:00:00\",\"2003-08-29T00:00:00\",\"2003-09-30T00:00:00\",\"2003-10-31T00:00:00\",\"2003-11-28T00:00:00\",\"2003-12-31T00:00:00\",\"2004-01-30T00:00:00\",\"2004-02-27T00:00:00\",\"2004-03-31T00:00:00\",\"2004-04-30T00:00:00\",\"2004-05-31T00:00:00\",\"2004-06-30T00:00:00\",\"2004-07-30T00:00:00\",\"2004-08-31T00:00:00\",\"2004-09-30T00:00:00\",\"2004-10-29T00:00:00\",\"2004-11-30T00:00:00\",\"2004-12-31T00:00:00\",\"2005-01-31T00:00:00\",\"2005-02-28T00:00:00\",\"2005-03-31T00:00:00\",\"2005-04-29T00:00:00\",\"2005-05-31T00:00:00\",\"2005-06-30T00:00:00\",\"2005-07-29T00:00:00\",\"2005-08-31T00:00:00\",\"2005-09-30T00:00:00\",\"2005-10-31T00:00:00\",\"2005-11-30T00:00:00\",\"2005-12-30T00:00:00\",\"2006-01-31T00:00:00\",\"2006-02-28T00:00:00\",\"2006-03-31T00:00:00\",\"2006-04-28T00:00:00\",\"2006-05-31T00:00:00\",\"2006-06-30T00:00:00\",\"2006-07-31T00:00:00\",\"2006-08-31T00:00:00\",\"2006-09-29T00:00:00\",\"2006-10-31T00:00:00\",\"2006-11-30T00:00:00\",\"2006-12-29T00:00:00\",\"2007-01-31T00:00:00\",\"2007-02-28T00:00:00\",\"2007-03-30T00:00:00\",\"2007-04-30T00:00:00\",\"2007-05-31T00:00:00\",\"2007-06-29T00:00:00\",\"2007-07-31T00:00:00\",\"2007-08-31T00:00:00\",\"2007-09-28T00:00:00\",\"2007-10-31T00:00:00\",\"2007-11-30T00:00:00\",\"2007-12-31T00:00:00\",\"2008-01-31T00:00:00\",\"2008-02-29T00:00:00\",\"2008-03-31T00:00:00\",\"2008-04-30T00:00:00\",\"2008-05-30T00:00:00\",\"2008-06-30T00:00:00\",\"2008-07-31T00:00:00\",\"2008-08-29T00:00:00\",\"2008-09-30T00:00:00\",\"2008-10-31T00:00:00\",\"2008-11-28T00:00:00\",\"2008-12-31T00:00:00\",\"2009-01-30T00:00:00\",\"2009-02-27T00:00:00\",\"2009-03-31T00:00:00\",\"2009-04-30T00:00:00\",\"2009-05-29T00:00:00\",\"2009-06-30T00:00:00\",\"2009-07-31T00:00:00\",\"2009-08-31T00:00:00\",\"2009-09-30T00:00:00\",\"2009-10-30T00:00:00\",\"2009-11-30T00:00:00\",\"2009-12-31T00:00:00\",\"2010-01-29T00:00:00\",\"2010-02-26T00:00:00\",\"2010-03-31T00:00:00\",\"2010-04-30T00:00:00\",\"2010-05-31T00:00:00\",\"2010-06-30T00:00:00\",\"2010-07-30T00:00:00\",\"2010-08-31T00:00:00\",\"2010-09-30T00:00:00\",\"2010-10-29T00:00:00\",\"2010-11-30T00:00:00\",\"2010-12-31T00:00:00\",\"2011-01-31T00:00:00\",\"2011-02-28T00:00:00\",\"2011-03-31T00:00:00\",\"2011-04-29T00:00:00\",\"2011-05-31T00:00:00\",\"2011-06-30T00:00:00\",\"2011-07-29T00:00:00\",\"2011-08-31T00:00:00\",\"2011-09-30T00:00:00\",\"2011-10-31T00:00:00\",\"2011-11-30T00:00:00\",\"2011-12-30T00:00:00\",\"2012-01-31T00:00:00\",\"2012-02-29T00:00:00\",\"2012-03-30T00:00:00\",\"2012-04-30T00:00:00\",\"2012-05-31T00:00:00\",\"2012-06-29T00:00:00\",\"2012-07-31T00:00:00\",\"2012-08-31T00:00:00\",\"2012-09-28T00:00:00\",\"2012-10-31T00:00:00\",\"2012-11-30T00:00:00\",\"2012-12-31T00:00:00\",\"2013-01-31T00:00:00\",\"2013-02-28T00:00:00\",\"2013-03-29T00:00:00\",\"2013-04-30T00:00:00\",\"2013-05-31T00:00:00\",\"2013-06-28T00:00:00\",\"2013-07-31T00:00:00\",\"2013-08-30T00:00:00\",\"2013-09-30T00:00:00\",\"2013-10-31T00:00:00\",\"2013-11-29T00:00:00\",\"2013-12-31T00:00:00\",\"2014-01-31T00:00:00\",\"2014-02-28T00:00:00\",\"2014-03-31T00:00:00\",\"2014-04-30T00:00:00\",\"2014-05-30T00:00:00\",\"2014-06-30T00:00:00\",\"2014-07-31T00:00:00\",\"2014-08-29T00:00:00\",\"2014-09-30T00:00:00\",\"2014-10-31T00:00:00\",\"2014-11-28T00:00:00\",\"2014-12-31T00:00:00\",\"2015-01-30T00:00:00\",\"2015-02-27T00:00:00\",\"2015-03-31T00:00:00\",\"2015-04-30T00:00:00\",\"2015-05-29T00:00:00\",\"2015-06-30T00:00:00\",\"2015-07-31T00:00:00\",\"2015-08-31T00:00:00\",\"2015-09-30T00:00:00\",\"2015-10-30T00:00:00\",\"2015-11-30T00:00:00\",\"2015-12-31T00:00:00\",\"2016-01-29T00:00:00\",\"2016-02-29T00:00:00\",\"2016-03-31T00:00:00\",\"2016-04-29T00:00:00\",\"2016-05-31T00:00:00\",\"2016-06-30T00:00:00\",\"2016-07-29T00:00:00\",\"2016-08-31T00:00:00\",\"2016-09-30T00:00:00\",\"2016-10-31T00:00:00\",\"2016-11-30T00:00:00\",\"2016-12-30T00:00:00\",\"2017-01-31T00:00:00\",\"2017-02-28T00:00:00\",\"2017-03-31T00:00:00\",\"2017-04-28T00:00:00\",\"2017-05-31T00:00:00\",\"2017-06-30T00:00:00\",\"2017-07-31T00:00:00\",\"2017-08-31T00:00:00\",\"2017-09-29T00:00:00\",\"2017-10-31T00:00:00\",\"2017-11-30T00:00:00\",\"2017-12-29T00:00:00\",\"2018-01-31T00:00:00\",\"2018-02-28T00:00:00\",\"2018-03-30T00:00:00\",\"2018-04-30T00:00:00\",\"2018-05-31T00:00:00\",\"2018-06-29T00:00:00\",\"2018-07-31T00:00:00\",\"2018-08-31T00:00:00\",\"2018-09-28T00:00:00\",\"2018-10-31T00:00:00\",\"2018-11-30T00:00:00\",\"2018-12-31T00:00:00\",\"2019-01-31T00:00:00\",\"2019-02-28T00:00:00\",\"2019-03-29T00:00:00\",\"2019-04-30T00:00:00\",\"2019-05-31T00:00:00\",\"2019-06-28T00:00:00\",\"2019-07-31T00:00:00\",\"2019-08-30T00:00:00\",\"2019-09-30T00:00:00\",\"2019-10-31T00:00:00\",\"2019-11-29T00:00:00\",\"2019-12-31T00:00:00\",\"2020-01-31T00:00:00\",\"2020-02-28T00:00:00\",\"2020-03-31T00:00:00\",\"2020-04-30T00:00:00\",\"2020-05-29T00:00:00\",\"2020-06-30T00:00:00\",\"2020-07-31T00:00:00\",\"2020-08-31T00:00:00\",\"2020-09-30T00:00:00\",\"2020-10-30T00:00:00\",\"2020-11-30T00:00:00\",\"2020-12-31T00:00:00\",\"2021-01-29T00:00:00\",\"2021-02-26T00:00:00\",\"2021-03-31T00:00:00\",\"2021-04-30T00:00:00\",\"2021-05-31T00:00:00\",\"2021-06-30T00:00:00\",\"2021-07-30T00:00:00\",\"2021-08-31T00:00:00\"],\"y\":[1.0,0.9426604523527423,0.9343318803841791,1.0113497287024842,0.9962577289307282,1.060370425769786,1.0554197536531515,1.0992485058553427,1.112850313355421,1.0471836454378605,1.057481482994554,1.0419121059431011,1.0657372171494273,1.073427038874899,1.0379784531721274,0.9715645693903706,0.9981744121303142,1.0151483335808493,0.9743758067808526,0.91121333278067,0.8780500478347611,0.7478556760088498,0.7863245579314628,0.8405753183257426,0.848507753281119,0.8330575654017881,0.8283632284463716,0.89703554326103,0.9012850400762813,0.9185799714622015,0.8285792492559078,0.7042207684625341,0.6983567187390204,0.609545061483541,0.6339452191668663,0.73494038427492,0.6613997929614759,0.6344469877757429,0.5911143137829316,0.5791333909384041,0.6750221626188857,0.7061623081958572,0.7262904138560873,0.7965640136015602,0.8294529601930274,0.8179563412817901,0.8770739683444875,0.884878810653975,0.915178991345114,0.9676492115066146,0.9780358966183578,0.960526170738388,0.9758880929515245,0.9648724994949865,0.9837840256930236,0.9601320772089194,0.9521272804920382,0.9762779235270739,0.9612019052873773,0.9741087633019095,1.0148397596952052,1.0501566962171682,1.0808698091720583,1.0876115605060546,1.05763923633202,1.1006783740182997,1.1283581236457956,1.1841250253962854,1.1938029279078741,1.2483923906573344,1.24729819832783,1.3365722136176137,1.4023911178727182,1.4611040231347336,1.4998482773558446,1.5520610827650667,1.5933613803576196,1.5021805381593842,1.5151616234014138,1.5530781585004951,1.615806177791153,1.676527554120533,1.7440449393508948,1.7671736915345113,1.882816873875938,1.957747177694804,1.902166219288741,1.9495035571555404,2.0889790876163254,2.144888493972542,2.1017750414101823,2.0406786699573916,2.0215652458043194,2.0212293284794876,2.08255955041627,1.984332241378708,1.9509677380154369,1.7779441255420412,1.7838266943750576,1.7181520094200209,1.8419968877788613,1.8432446680205576,1.6730307906523854,1.6722759954384052,1.7152472499293567,1.5532213828174262,1.3376754175489696,1.222469412617641,1.2112409840897576,1.1528473085965478,1.0111178850933005,1.0930373028310607,1.3018171894607493,1.3688341569012832,1.3851384112333573,1.5158399048896252,1.6356318602864741,1.677808995347851,1.624527241115971,1.6448540958851419,1.718429870831878,1.7088135907488533,1.7621643156175615,1.8857172177274997,1.8486829899650437,1.7720548005124774,1.7254919543312892,1.8175250233736022,1.7668912010459392,1.8428338118928116,1.9049780104357192,1.8779964013402466,1.9471048663041364,1.9496429908885191,1.9976866086643918,1.9803369365188805,2.0622310246580877,2.026311919144365,1.9126986453590973,1.791748522447549,1.657747509547034,1.613645780722406,1.7430887347573025,1.7022662841804828,1.7319433706185225,1.786834771239216,1.8474564786539398,1.8933869970084694,1.853660567325139,1.7535930792762118,1.8182051265347172,1.9028522974494633,1.9385942873290534,1.9873852795576101,2.0398730868075314,2.1222553683963694,2.160671376650228,2.321031581149469,2.4340394690419354,2.48595493361605,2.5603625226631457,2.6382079078312666,2.5574571606302205,2.646725832211527,2.5914877364449493,2.691735530460883,2.796094839190729,2.795796614498503,2.81361883029594,2.804767599734325,2.9478754912445178,2.9915401970521955,3.037306624109009,3.095574681904223,3.057786440256189,2.9869745200371334,3.072534035817696,3.0858459217262904,3.111416948892504,3.2519377101421556,3.1868135315139217,2.929683507904356,3.208358015444837,3.298920818990233,3.300280330827341,3.3124682122031963,3.176561427743734,3.4320247327324336,3.1917856261002724,3.069487758597017,3.3155699788852213,3.387402220733221,3.3201881026384017,3.188411422445678,3.052763199396357,3.131554561669576,3.2290392358463107,3.3001746690569362,3.1477409071290117,3.2406400066951626,3.3625974439431325,3.398002550384356,3.409878644834028,3.438544109548755,3.5242996282407133,3.5980960757557505,3.669812947267765,3.7823212153765007,3.9556634753578677,4.011927238355922,3.974414150916769,4.121947193907348,4.074266128990277,4.2428466756033645,4.339481633436493,4.295987919846968,4.38457166141217,4.444655549316071,4.279756235574672,4.233894919396805,4.422012083438006,4.30915465145347,4.346855223624189,4.553565426640245,4.4466765660910355,4.531428857398201,4.341151385494856,4.247867388171272,3.9806532686794918,4.232375307284776,4.415989867923416,4.448348843962866,4.738622764197827,4.567715075587247,4.78677539805792,4.764762483078346,4.707514942155296,4.812667218311415,4.958020626086578,5.084565168331599,5.157026304093343,5.11950904053074,4.743618757775052,4.268735068885898,4.4852041040585595,4.652473691815884,4.8464247939083345,4.917716961096206,5.002024128107901,5.0160957001312365,4.76020263660348,5.429880316872702,5.550074128649647,5.580141736663115,5.671998962038364,5.980753563361385,6.079854587628438,6.337567676182556,6.527399226000471,6.670307290609506,6.79474088783787],\"type\":\"scatter\"},{\"name\":\"MVP\",\"x\":[\"1999-12-31T00:00:00\",\"2000-01-31T00:00:00\",\"2000-02-29T00:00:00\",\"2000-03-31T00:00:00\",\"2000-04-28T00:00:00\",\"2000-05-31T00:00:00\",\"2000-06-30T00:00:00\",\"2000-07-31T00:00:00\",\"2000-08-31T00:00:00\",\"2000-09-29T00:00:00\",\"2000-10-31T00:00:00\",\"2000-11-30T00:00:00\",\"2000-12-29T00:00:00\",\"2001-01-31T00:00:00\",\"2001-02-28T00:00:00\",\"2001-03-30T00:00:00\",\"2001-04-30T00:00:00\",\"2001-05-31T00:00:00\",\"2001-06-29T00:00:00\",\"2001-07-31T00:00:00\",\"2001-08-31T00:00:00\",\"2001-09-28T00:00:00\",\"2001-10-31T00:00:00\",\"2001-11-30T00:00:00\",\"2001-12-31T00:00:00\",\"2002-01-31T00:00:00\",\"2002-02-28T00:00:00\",\"2002-03-29T00:00:00\",\"2002-04-30T00:00:00\",\"2002-05-31T00:00:00\",\"2002-06-28T00:00:00\",\"2002-07-31T00:00:00\",\"2002-08-30T00:00:00\",\"2002-09-30T00:00:00\",\"2002-10-31T00:00:00\",\"2002-11-29T00:00:00\",\"2002-12-31T00:00:00\",\"2003-01-31T00:00:00\",\"2003-02-28T00:00:00\",\"2003-03-31T00:00:00\",\"2003-04-30T00:00:00\",\"2003-05-30T00:00:00\",\"2003-06-30T00:00:00\",\"2003-07-31T00:00:00\",\"2003-08-29T00:00:00\",\"2003-09-30T00:00:00\",\"2003-10-31T00:00:00\",\"2003-11-28T00:00:00\",\"2003-12-31T00:00:00\",\"2004-01-30T00:00:00\",\"2004-02-27T00:00:00\",\"2004-03-31T00:00:00\",\"2004-04-30T00:00:00\",\"2004-05-31T00:00:00\",\"2004-06-30T00:00:00\",\"2004-07-30T00:00:00\",\"2004-08-31T00:00:00\",\"2004-09-30T00:00:00\",\"2004-10-29T00:00:00\",\"2004-11-30T00:00:00\",\"2004-12-31T00:00:00\",\"2005-01-31T00:00:00\",\"2005-02-28T00:00:00\",\"2005-03-31T00:00:00\",\"2005-04-29T00:00:00\",\"2005-05-31T00:00:00\",\"2005-06-30T00:00:00\",\"2005-07-29T00:00:00\",\"2005-08-31T00:00:00\",\"2005-09-30T00:00:00\",\"2005-10-31T00:00:00\",\"2005-11-30T00:00:00\",\"2005-12-30T00:00:00\",\"2006-01-31T00:00:00\",\"2006-02-28T00:00:00\",\"2006-03-31T00:00:00\",\"2006-04-28T00:00:00\",\"2006-05-31T00:00:00\",\"2006-06-30T00:00:00\",\"2006-07-31T00:00:00\",\"2006-08-31T00:00:00\",\"2006-09-29T00:00:00\",\"2006-10-31T00:00:00\",\"2006-11-30T00:00:00\",\"2006-12-29T00:00:00\",\"2007-01-31T00:00:00\",\"2007-02-28T00:00:00\",\"2007-03-30T00:00:00\",\"2007-04-30T00:00:00\",\"2007-05-31T00:00:00\",\"2007-06-29T00:00:00\",\"2007-07-31T00:00:00\",\"2007-08-31T00:00:00\",\"2007-09-28T00:00:00\",\"2007-10-31T00:00:00\",\"2007-11-30T00:00:00\",\"2007-12-31T00:00:00\",\"2008-01-31T00:00:00\",\"2008-02-29T00:00:00\",\"2008-03-31T00:00:00\",\"2008-04-30T00:00:00\",\"2008-05-30T00:00:00\",\"2008-06-30T00:00:00\",\"2008-07-31T00:00:00\",\"2008-08-29T00:00:00\",\"2008-09-30T00:00:00\",\"2008-10-31T00:00:00\",\"2008-11-28T00:00:00\",\"2008-12-31T00:00:00\",\"2009-01-30T00:00:00\",\"2009-02-27T00:00:00\",\"2009-03-31T00:00:00\",\"2009-04-30T00:00:00\",\"2009-05-29T00:00:00\",\"2009-06-30T00:00:00\",\"2009-07-31T00:00:00\",\"2009-08-31T00:00:00\",\"2009-09-30T00:00:00\",\"2009-10-30T00:00:00\",\"2009-11-30T00:00:00\",\"2009-12-31T00:00:00\",\"2010-01-29T00:00:00\",\"2010-02-26T00:00:00\",\"2010-03-31T00:00:00\",\"2010-04-30T00:00:00\",\"2010-05-31T00:00:00\",\"2010-06-30T00:00:00\",\"2010-07-30T00:00:00\",\"2010-08-31T00:00:00\",\"2010-09-30T00:00:00\",\"2010-10-29T00:00:00\",\"2010-11-30T00:00:00\",\"2010-12-31T00:00:00\",\"2011-01-31T00:00:00\",\"2011-02-28T00:00:00\",\"2011-03-31T00:00:00\",\"2011-04-29T00:00:00\",\"2011-05-31T00:00:00\",\"2011-06-30T00:00:00\",\"2011-07-29T00:00:00\",\"2011-08-31T00:00:00\",\"2011-09-30T00:00:00\",\"2011-10-31T00:00:00\",\"2011-11-30T00:00:00\",\"2011-12-30T00:00:00\",\"2012-01-31T00:00:00\",\"2012-02-29T00:00:00\",\"2012-03-30T00:00:00\",\"2012-04-30T00:00:00\",\"2012-05-31T00:00:00\",\"2012-06-29T00:00:00\",\"2012-07-31T00:00:00\",\"2012-08-31T00:00:00\",\"2012-09-28T00:00:00\",\"2012-10-31T00:00:00\",\"2012-11-30T00:00:00\",\"2012-12-31T00:00:00\",\"2013-01-31T00:00:00\",\"2013-02-28T00:00:00\",\"2013-03-29T00:00:00\",\"2013-04-30T00:00:00\",\"2013-05-31T00:00:00\",\"2013-06-28T00:00:00\",\"2013-07-31T00:00:00\",\"2013-08-30T00:00:00\",\"2013-09-30T00:00:00\",\"2013-10-31T00:00:00\",\"2013-11-29T00:00:00\",\"2013-12-31T00:00:00\",\"2014-01-31T00:00:00\",\"2014-02-28T00:00:00\",\"2014-03-31T00:00:00\",\"2014-04-30T00:00:00\",\"2014-05-30T00:00:00\",\"2014-06-30T00:00:00\",\"2014-07-31T00:00:00\",\"2014-08-29T00:00:00\",\"2014-09-30T00:00:00\",\"2014-10-31T00:00:00\",\"2014-11-28T00:00:00\",\"2014-12-31T00:00:00\",\"2015-01-30T00:00:00\",\"2015-02-27T00:00:00\",\"2015-03-31T00:00:00\",\"2015-04-30T00:00:00\",\"2015-05-29T00:00:00\",\"2015-06-30T00:00:00\",\"2015-07-31T00:00:00\",\"2015-08-31T00:00:00\",\"2015-09-30T00:00:00\",\"2015-10-30T00:00:00\",\"2015-11-30T00:00:00\",\"2015-12-31T00:00:00\",\"2016-01-29T00:00:00\",\"2016-02-29T00:00:00\",\"2016-03-31T00:00:00\",\"2016-04-29T00:00:00\",\"2016-05-31T00:00:00\",\"2016-06-30T00:00:00\",\"2016-07-29T00:00:00\",\"2016-08-31T00:00:00\",\"2016-09-30T00:00:00\",\"2016-10-31T00:00:00\",\"2016-11-30T00:00:00\",\"2016-12-30T00:00:00\",\"2017-01-31T00:00:00\",\"2017-02-28T00:00:00\",\"2017-03-31T00:00:00\",\"2017-04-28T00:00:00\",\"2017-05-31T00:00:00\",\"2017-06-30T00:00:00\",\"2017-07-31T00:00:00\",\"2017-08-31T00:00:00\",\"2017-09-29T00:00:00\",\"2017-10-31T00:00:00\",\"2017-11-30T00:00:00\",\"2017-12-29T00:00:00\",\"2018-01-31T00:00:00\",\"2018-02-28T00:00:00\",\"2018-03-30T00:00:00\",\"2018-04-30T00:00:00\",\"2018-05-31T00:00:00\",\"2018-06-29T00:00:00\",\"2018-07-31T00:00:00\",\"2018-08-31T00:00:00\",\"2018-09-28T00:00:00\",\"2018-10-31T00:00:00\",\"2018-11-30T00:00:00\",\"2018-12-31T00:00:00\",\"2019-01-31T00:00:00\",\"2019-02-28T00:00:00\",\"2019-03-29T00:00:00\",\"2019-04-30T00:00:00\",\"2019-05-31T00:00:00\",\"2019-06-28T00:00:00\",\"2019-07-31T00:00:00\",\"2019-08-30T00:00:00\",\"2019-09-30T00:00:00\",\"2019-10-31T00:00:00\",\"2019-11-29T00:00:00\",\"2019-12-31T00:00:00\",\"2020-01-31T00:00:00\",\"2020-02-28T00:00:00\",\"2020-03-31T00:00:00\",\"2020-04-30T00:00:00\",\"2020-05-29T00:00:00\",\"2020-06-30T00:00:00\",\"2020-07-31T00:00:00\",\"2020-08-31T00:00:00\",\"2020-09-30T00:00:00\",\"2020-10-30T00:00:00\",\"2020-11-30T00:00:00\",\"2020-12-31T00:00:00\",\"2021-01-29T00:00:00\",\"2021-02-26T00:00:00\",\"2021-03-31T00:00:00\",\"2021-04-30T00:00:00\",\"2021-05-31T00:00:00\",\"2021-06-30T00:00:00\",\"2021-07-30T00:00:00\",\"2021-08-31T00:00:00\"],\"y\":[1.0,1.0,1.0,1.0,1.0,1.0,1.0,1.0,1.0,1.0,1.0,1.0,1.0,1.0,1.0,1.0,1.0,1.0,1.0,1.0,1.0,1.0,1.0,1.0,1.0,1.0,1.0,1.0,1.0,1.0,1.0,1.0,1.0,1.0,1.0,1.0,1.0,0.9933765935384627,0.9576845911510816,0.9916087425238949,1.0375882483930485,1.018820811775755,1.0273863032943642,1.0243496480415741,1.0666624073635158,1.0580493819916899,1.0888065043883868,1.1126660167700997,1.1701567978422531,1.2194276614393464,1.214148641812755,1.1946386169895118,1.2444824464946613,1.2391589190242942,1.2939011936252416,1.3119289993728902,1.3410718995959499,1.3420030309794388,1.31574063692313,1.3148891381155225,1.3343236891136343,1.3607909879699187,1.4010892803528903,1.3717053671488155,1.349477140757367,1.3963105146863728,1.400637715788282,1.4585130065301402,1.4735216610210997,1.5258314030936424,1.5297190916606638,1.5576430797926115,1.6029272859490662,1.6359236797020877,1.6541257215920788,1.7318623232320338,1.7662252788165282,1.6929002197179301,1.7127118124207552,1.7754966587001975,1.815992278163482,1.8600357478541336,1.9182881380617212,1.925491691470549,2.0146828519256177,2.0775230377266625,2.0176901527099584,2.041476673907421,2.128317483319351,2.1536789586034293,2.101775125710712,2.0368868602094587,2.0614482779485965,2.0591609186785047,2.0844662839877555,2.0830689210412743,2.044818290796495,1.9839304645908589,1.9683447757037897,1.8369622550833398,1.929398832464874,1.9440266554473689,1.8308467936153512,1.8711901349004385,1.8773183447637438,1.7921601379924847,1.6929618824657977,1.6381598852544306,1.6141685498234575,1.6287298436252564,1.4292595458443869,1.4501745515018765,1.5043235106111186,1.5335760183309355,1.5900251343273086,1.7045093593747358,1.7402514831896512,1.7876782306405838,1.810259856534749,1.8332697752733569,1.885100084336467,1.8938410054166828,1.9452820592343218,1.9866280162996068,1.970281901267947,1.926765788815137,1.90994492091765,1.9276058773926907,1.97387595525188,2.0123328529979227,2.06709092357809,2.0428878123046053,2.038968456455643,1.987699446181944,2.0304542447314415,2.023969031646204,2.1011558230367764,2.135333943423024,2.0350623237351506,1.9728976769696338,1.891496340362622,1.9196235190898487,1.927508542236213,1.9098115877274748,1.988542295963853,1.9737482455634587,2.006919559135904,2.0752870916075694,2.0838929058769455,2.0832627434307645,2.183959973493132,2.3216209589647048,2.292500800332451,2.293008934671355,2.322690937252935,2.3816134558358293,2.3729218553727476,2.512956448294701,2.6525120893346195,2.7399501156935595,2.7886297519548635,2.7052828576107193,2.6864428165382255,2.7291839819650305,2.7069971157124146,2.791457734459264,2.929304068420348,2.931492688709572,2.955714969845824,2.963432450879391,3.092082243723274,3.177500413159786,3.2651030862489163,3.332460013258559,3.277442514235658,3.19065868848727,3.325135020589778,3.3797371963294403,3.4825909178632606,3.6920487483991877,3.5707164114239056,3.3632124346350047,3.5785725773339605,3.683152463743755,3.6636115899932227,3.652389076391482,3.4790599328030067,3.738790681750611,3.4753898186623426,3.3785617992116044,3.5817877000781384,3.666111495016079,3.636743464600344,3.5471078354161425,3.3892266111866407,3.434944469834621,3.5211082639977227,3.656924749121587,3.6467579321187706,3.6225197773763083,3.6155506494751015,3.6219171745937846,3.5393764801735283,3.472935710954478,3.6337275547705006,3.555334847977492,3.596507662080125,3.7205387727169303,3.7981479955431707,3.9676172530999816,3.9447137020074483,4.052361593030487,3.982119350664877,4.048289751519464,4.199617056038535,4.224731940293969,4.221294458712706,4.184751899448163,4.122847442661109,4.039145781524868,4.17076014881212,4.044290676299033,4.151480256706179,4.305451545778291,4.234149455143512,4.273450635080662,4.117396582499421,4.090018590770503,3.949931923667797,4.163152897011285,4.254523354871556,4.346650488692521,4.65881648166013,4.583869280357436,4.811937804763661,4.675885427668316,4.6274018992913915,4.761674011221009,4.91422188158062,5.083293203655287,5.110468297704557,5.134489521288411,4.747763317942085,4.6615723649591025,4.839511080805295,4.959594663047491,5.033012346458775,5.1252826601471275,5.225131986049444,5.2852476500593655,5.007746645226014,5.170756876751582,5.255538728534233,5.198237683181004,4.988168173418648,5.47890678299984,5.595109378231732,5.86749594071704,6.223408360160644,6.315338226735782,6.438846653577321],\"type\":\"scatter\"},{\"name\":\"MDP\",\"x\":[\"1999-12-31T00:00:00\",\"2000-01-31T00:00:00\",\"2000-02-29T00:00:00\",\"2000-03-31T00:00:00\",\"2000-04-28T00:00:00\",\"2000-05-31T00:00:00\",\"2000-06-30T00:00:00\",\"2000-07-31T00:00:00\",\"2000-08-31T00:00:00\",\"2000-09-29T00:00:00\",\"2000-10-31T00:00:00\",\"2000-11-30T00:00:00\",\"2000-12-29T00:00:00\",\"2001-01-31T00:00:00\",\"2001-02-28T00:00:00\",\"2001-03-30T00:00:00\",\"2001-04-30T00:00:00\",\"2001-05-31T00:00:00\",\"2001-06-29T00:00:00\",\"2001-07-31T00:00:00\",\"2001-08-31T00:00:00\",\"2001-09-28T00:00:00\",\"2001-10-31T00:00:00\",\"2001-11-30T00:00:00\",\"2001-12-31T00:00:00\",\"2002-01-31T00:00:00\",\"2002-02-28T00:00:00\",\"2002-03-29T00:00:00\",\"2002-04-30T00:00:00\",\"2002-05-31T00:00:00\",\"2002-06-28T00:00:00\",\"2002-07-31T00:00:00\",\"2002-08-30T00:00:00\",\"2002-09-30T00:00:00\",\"2002-10-31T00:00:00\",\"2002-11-29T00:00:00\",\"2002-12-31T00:00:00\",\"2003-01-31T00:00:00\",\"2003-02-28T00:00:00\",\"2003-03-31T00:00:00\",\"2003-04-30T00:00:00\",\"2003-05-30T00:00:00\",\"2003-06-30T00:00:00\",\"2003-07-31T00:00:00\",\"2003-08-29T00:00:00\",\"2003-09-30T00:00:00\",\"2003-10-31T00:00:00\",\"2003-11-28T00:00:00\",\"2003-12-31T00:00:00\",\"2004-01-30T00:00:00\",\"2004-02-27T00:00:00\",\"2004-03-31T00:00:00\",\"2004-04-30T00:00:00\",\"2004-05-31T00:00:00\",\"2004-06-30T00:00:00\",\"2004-07-30T00:00:00\",\"2004-08-31T00:00:00\",\"2004-09-30T00:00:00\",\"2004-10-29T00:00:00\",\"2004-11-30T00:00:00\",\"2004-12-31T00:00:00\",\"2005-01-31T00:00:00\",\"2005-02-28T00:00:00\",\"2005-03-31T00:00:00\",\"2005-04-29T00:00:00\",\"2005-05-31T00:00:00\",\"2005-06-30T00:00:00\",\"2005-07-29T00:00:00\",\"2005-08-31T00:00:00\",\"2005-09-30T00:00:00\",\"2005-10-31T00:00:00\",\"2005-11-30T00:00:00\",\"2005-12-30T00:00:00\",\"2006-01-31T00:00:00\",\"2006-02-28T00:00:00\",\"2006-03-31T00:00:00\",\"2006-04-28T00:00:00\",\"2006-05-31T00:00:00\",\"2006-06-30T00:00:00\",\"2006-07-31T00:00:00\",\"2006-08-31T00:00:00\",\"2006-09-29T00:00:00\",\"2006-10-31T00:00:00\",\"2006-11-30T00:00:00\",\"2006-12-29T00:00:00\",\"2007-01-31T00:00:00\",\"2007-02-28T00:00:00\",\"2007-03-30T00:00:00\",\"2007-04-30T00:00:00\",\"2007-05-31T00:00:00\",\"2007-06-29T00:00:00\",\"2007-07-31T00:00:00\",\"2007-08-31T00:00:00\",\"2007-09-28T00:00:00\",\"2007-10-31T00:00:00\",\"2007-11-30T00:00:00\",\"2007-12-31T00:00:00\",\"2008-01-31T00:00:00\",\"2008-02-29T00:00:00\",\"2008-03-31T00:00:00\",\"2008-04-30T00:00:00\",\"2008-05-30T00:00:00\",\"2008-06-30T00:00:00\",\"2008-07-31T00:00:00\",\"2008-08-29T00:00:00\",\"2008-09-30T00:00:00\",\"2008-10-31T00:00:00\",\"2008-11-28T00:00:00\",\"2008-12-31T00:00:00\",\"2009-01-30T00:00:00\",\"2009-02-27T00:00:00\",\"2009-03-31T00:00:00\",\"2009-04-30T00:00:00\",\"2009-05-29T00:00:00\",\"2009-06-30T00:00:00\",\"2009-07-31T00:00:00\",\"2009-08-31T00:00:00\",\"2009-09-30T00:00:00\",\"2009-10-30T00:00:00\",\"2009-11-30T00:00:00\",\"2009-12-31T00:00:00\",\"2010-01-29T00:00:00\",\"2010-02-26T00:00:00\",\"2010-03-31T00:00:00\",\"2010-04-30T00:00:00\",\"2010-05-31T00:00:00\",\"2010-06-30T00:00:00\",\"2010-07-30T00:00:00\",\"2010-08-31T00:00:00\",\"2010-09-30T00:00:00\",\"2010-10-29T00:00:00\",\"2010-11-30T00:00:00\",\"2010-12-31T00:00:00\",\"2011-01-31T00:00:00\",\"2011-02-28T00:00:00\",\"2011-03-31T00:00:00\",\"2011-04-29T00:00:00\",\"2011-05-31T00:00:00\",\"2011-06-30T00:00:00\",\"2011-07-29T00:00:00\",\"2011-08-31T00:00:00\",\"2011-09-30T00:00:00\",\"2011-10-31T00:00:00\",\"2011-11-30T00:00:00\",\"2011-12-30T00:00:00\",\"2012-01-31T00:00:00\",\"2012-02-29T00:00:00\",\"2012-03-30T00:00:00\",\"2012-04-30T00:00:00\",\"2012-05-31T00:00:00\",\"2012-06-29T00:00:00\",\"2012-07-31T00:00:00\",\"2012-08-31T00:00:00\",\"2012-09-28T00:00:00\",\"2012-10-31T00:00:00\",\"2012-11-30T00:00:00\",\"2012-12-31T00:00:00\",\"2013-01-31T00:00:00\",\"2013-02-28T00:00:00\",\"2013-03-29T00:00:00\",\"2013-04-30T00:00:00\",\"2013-05-31T00:00:00\",\"2013-06-28T00:00:00\",\"2013-07-31T00:00:00\",\"2013-08-30T00:00:00\",\"2013-09-30T00:00:00\",\"2013-10-31T00:00:00\",\"2013-11-29T00:00:00\",\"2013-12-31T00:00:00\",\"2014-01-31T00:00:00\",\"2014-02-28T00:00:00\",\"2014-03-31T00:00:00\",\"2014-04-30T00:00:00\",\"2014-05-30T00:00:00\",\"2014-06-30T00:00:00\",\"2014-07-31T00:00:00\",\"2014-08-29T00:00:00\",\"2014-09-30T00:00:00\",\"2014-10-31T00:00:00\",\"2014-11-28T00:00:00\",\"2014-12-31T00:00:00\",\"2015-01-30T00:00:00\",\"2015-02-27T00:00:00\",\"2015-03-31T00:00:00\",\"2015-04-30T00:00:00\",\"2015-05-29T00:00:00\",\"2015-06-30T00:00:00\",\"2015-07-31T00:00:00\",\"2015-08-31T00:00:00\",\"2015-09-30T00:00:00\",\"2015-10-30T00:00:00\",\"2015-11-30T00:00:00\",\"2015-12-31T00:00:00\",\"2016-01-29T00:00:00\",\"2016-02-29T00:00:00\",\"2016-03-31T00:00:00\",\"2016-04-29T00:00:00\",\"2016-05-31T00:00:00\",\"2016-06-30T00:00:00\",\"2016-07-29T00:00:00\",\"2016-08-31T00:00:00\",\"2016-09-30T00:00:00\",\"2016-10-31T00:00:00\",\"2016-11-30T00:00:00\",\"2016-12-30T00:00:00\",\"2017-01-31T00:00:00\",\"2017-02-28T00:00:00\",\"2017-03-31T00:00:00\",\"2017-04-28T00:00:00\",\"2017-05-31T00:00:00\",\"2017-06-30T00:00:00\",\"2017-07-31T00:00:00\",\"2017-08-31T00:00:00\",\"2017-09-29T00:00:00\",\"2017-10-31T00:00:00\",\"2017-11-30T00:00:00\",\"2017-12-29T00:00:00\",\"2018-01-31T00:00:00\",\"2018-02-28T00:00:00\",\"2018-03-30T00:00:00\",\"2018-04-30T00:00:00\",\"2018-05-31T00:00:00\",\"2018-06-29T00:00:00\",\"2018-07-31T00:00:00\",\"2018-08-31T00:00:00\",\"2018-09-28T00:00:00\",\"2018-10-31T00:00:00\",\"2018-11-30T00:00:00\",\"2018-12-31T00:00:00\",\"2019-01-31T00:00:00\",\"2019-02-28T00:00:00\",\"2019-03-29T00:00:00\",\"2019-04-30T00:00:00\",\"2019-05-31T00:00:00\",\"2019-06-28T00:00:00\",\"2019-07-31T00:00:00\",\"2019-08-30T00:00:00\",\"2019-09-30T00:00:00\",\"2019-10-31T00:00:00\",\"2019-11-29T00:00:00\",\"2019-12-31T00:00:00\",\"2020-01-31T00:00:00\",\"2020-02-28T00:00:00\",\"2020-03-31T00:00:00\",\"2020-04-30T00:00:00\",\"2020-05-29T00:00:00\",\"2020-06-30T00:00:00\",\"2020-07-31T00:00:00\",\"2020-08-31T00:00:00\",\"2020-09-30T00:00:00\",\"2020-10-30T00:00:00\",\"2020-11-30T00:00:00\",\"2020-12-31T00:00:00\",\"2021-01-29T00:00:00\",\"2021-02-26T00:00:00\",\"2021-03-31T00:00:00\",\"2021-04-30T00:00:00\",\"2021-05-31T00:00:00\",\"2021-06-30T00:00:00\",\"2021-07-30T00:00:00\",\"2021-08-31T00:00:00\"],\"y\":[1.0,1.0,1.0,1.0,1.0,1.0,1.0,1.0,1.0,1.0,1.0,1.0,1.0,1.0,1.0,1.0,1.0,1.0,1.0,1.0,1.0,1.0,1.0,1.0,1.0,1.0,1.0,1.0,1.0,1.0,1.0,1.0,1.0,1.0,1.0,1.0,1.0,1.0212954767151687,0.925105003342675,0.955505985227421,1.058691949983116,1.0765664826043957,1.1022803173931337,1.2230378689305013,1.3647478446382475,1.3524912700113474,1.438047595965092,1.4629753636951606,1.5012559990483458,1.597409489351069,1.6098251069824512,1.5543096919541928,1.5405462814112327,1.516929991094621,1.5721310615155426,1.5620067875802353,1.5818748580584368,1.6344469391560326,1.6129178905926236,1.6364278176313263,1.6213709933864326,1.6587159451401423,1.719417788413532,1.7227561776861184,1.6677166041746585,1.7352307293021014,1.7604076359778669,1.8316918411417349,1.844454113443401,1.9118485281686566,1.9513767158690438,2.0781717635004147,2.259535630376578,2.3062998299100954,2.3967330366043496,2.5590963561104427,2.6630862112620566,2.5287791566669853,2.601348195614235,2.6916293194399437,2.7845686606478894,2.823186029343233,2.9343812445678403,2.9987122663465526,3.1571004925173485,3.3842376606355193,3.267696273769418,3.2834942085672147,3.5224734196099883,3.587664373096866,3.494876459652132,3.3973912609365633,3.3775263306588936,3.338637199202893,3.406751773966272,3.3954511978298294,3.2878803242621624,3.127030394669357,3.2639564961494134,3.10844791129692,3.1612004865313783,3.1004466404523625,2.906095594055438,2.8459887472388323,2.92588327266603,2.519020951769031,2.256325355401811,1.9288549560846875,1.8887601561233103,1.8326918920274222,1.3882059797348691,1.5951715942032294,1.9186119069160414,2.0672085404715106,2.0376140166296692,2.237837536380859,2.4584910166497926,2.482640516640106,2.1503428700615674,2.1643736796430817,2.191578482319556,2.129561133106054,2.2421920198628653,2.3613241448648092,2.3147339837735097,2.1711384409519603,2.0479945487747924,2.2292673409015156,2.19616999406204,2.173655603615846,2.279000876525136,2.121579199567735,2.162902022073721,2.2801173680050315,2.3911079418826957,2.271552796627372,2.3427114239182694,2.2839390101260997,2.1357717683976207,2.0414809013246686,1.834580326918519,1.8372122426968285,1.9353696122655366,1.87046766977289,1.8962868693399029,1.8802447310757624,1.9090622155189967,1.9351929703044224,1.8796121801946424,1.7428671654096628,1.8493928190496136,1.94690394174985,1.991750780759712,2.064833420244252,2.148161201015844,2.2561702724288413,2.2897527176854875,2.4877314765086016,2.586603783040958,2.6228747329633033,2.787365658937231,2.9859173216285537,2.8968416908153767,3.0186991754412658,2.991812527080603,3.122346399834016,3.2198214916295744,3.2599751027404698,3.253528085485169,3.283461983421215,3.4758885428819384,3.4492068673474545,3.510495127879216,3.5547035272222516,3.484369589839664,3.386203468145519,3.5377220204800417,3.6157937989877063,3.639629542315646,3.891878085886035,3.814273406251721,3.5056015254830943,3.802059792399055,3.912023027006636,4.034681552510584,4.051037028747487,3.9221591610909723,4.3428776197312935,4.04396372623741,3.884706820665387,4.264872823167523,4.3550349003663,4.34862555691547,4.121038905897797,3.8881490637924085,3.976314342563665,4.189942717813182,4.2892707802288355,3.8539843268542318,4.187033061306191,4.434938457595861,4.535859108755782,4.782235157771483,4.814072656106451,4.97055662887705,5.256569927469827,5.344186879185559,5.53744359088819,5.8349061828896955,5.733012772432502,5.71592896834885,6.121124592423979,6.086827697457799,6.474450279830694,6.604429815950329,6.623679609795985,6.929104739496288,7.142531433645249,6.855952945762491,6.760925260738897,7.174014564357175,7.007320538837377,7.050925841687726,7.221509766629072,6.9107069353765915,6.921880911091614,6.442690979436575,6.2496767061604315,5.834399306633049,6.173071319522581,6.3933572806867875,6.49309080807769,6.8496313590464295,6.392036688085614,6.752157219415909,6.848534041009838,6.674172150011426,6.711938155284781,6.903667715448526,7.088668434770755,7.103381908937396,7.047566265484478,6.615834449402693,6.3207996602138685,6.621011332471349,6.867959038290917,7.1621262734970195,7.362053387170335,7.420313256363972,7.554925497031746,7.137377755488494,7.963896652103113,8.140016916694854,8.282000005707987,8.61213780293775,8.062992947130148,8.238907508280954,8.479080399304918,8.850144939389903,8.942655653396237,9.235373276047648],\"type\":\"scatter\"},{\"name\":\"ERC\",\"x\":[\"1999-12-31T00:00:00\",\"2000-01-31T00:00:00\",\"2000-02-29T00:00:00\",\"2000-03-31T00:00:00\",\"2000-04-28T00:00:00\",\"2000-05-31T00:00:00\",\"2000-06-30T00:00:00\",\"2000-07-31T00:00:00\",\"2000-08-31T00:00:00\",\"2000-09-29T00:00:00\",\"2000-10-31T00:00:00\",\"2000-11-30T00:00:00\",\"2000-12-29T00:00:00\",\"2001-01-31T00:00:00\",\"2001-02-28T00:00:00\",\"2001-03-30T00:00:00\",\"2001-04-30T00:00:00\",\"2001-05-31T00:00:00\",\"2001-06-29T00:00:00\",\"2001-07-31T00:00:00\",\"2001-08-31T00:00:00\",\"2001-09-28T00:00:00\",\"2001-10-31T00:00:00\",\"2001-11-30T00:00:00\",\"2001-12-31T00:00:00\",\"2002-01-31T00:00:00\",\"2002-02-28T00:00:00\",\"2002-03-29T00:00:00\",\"2002-04-30T00:00:00\",\"2002-05-31T00:00:00\",\"2002-06-28T00:00:00\",\"2002-07-31T00:00:00\",\"2002-08-30T00:00:00\",\"2002-09-30T00:00:00\",\"2002-10-31T00:00:00\",\"2002-11-29T00:00:00\",\"2002-12-31T00:00:00\",\"2003-01-31T00:00:00\",\"2003-02-28T00:00:00\",\"2003-03-31T00:00:00\",\"2003-04-30T00:00:00\",\"2003-05-30T00:00:00\",\"2003-06-30T00:00:00\",\"2003-07-31T00:00:00\",\"2003-08-29T00:00:00\",\"2003-09-30T00:00:00\",\"2003-10-31T00:00:00\",\"2003-11-28T00:00:00\",\"2003-12-31T00:00:00\",\"2004-01-30T00:00:00\",\"2004-02-27T00:00:00\",\"2004-03-31T00:00:00\",\"2004-04-30T00:00:00\",\"2004-05-31T00:00:00\",\"2004-06-30T00:00:00\",\"2004-07-30T00:00:00\",\"2004-08-31T00:00:00\",\"2004-09-30T00:00:00\",\"2004-10-29T00:00:00\",\"2004-11-30T00:00:00\",\"2004-12-31T00:00:00\",\"2005-01-31T00:00:00\",\"2005-02-28T00:00:00\",\"2005-03-31T00:00:00\",\"2005-04-29T00:00:00\",\"2005-05-31T00:00:00\",\"2005-06-30T00:00:00\",\"2005-07-29T00:00:00\",\"2005-08-31T00:00:00\",\"2005-09-30T00:00:00\",\"2005-10-31T00:00:00\",\"2005-11-30T00:00:00\",\"2005-12-30T00:00:00\",\"2006-01-31T00:00:00\",\"2006-02-28T00:00:00\",\"2006-03-31T00:00:00\",\"2006-04-28T00:00:00\",\"2006-05-31T00:00:00\",\"2006-06-30T00:00:00\",\"2006-07-31T00:00:00\",\"2006-08-31T00:00:00\",\"2006-09-29T00:00:00\",\"2006-10-31T00:00:00\",\"2006-11-30T00:00:00\",\"2006-12-29T00:00:00\",\"2007-01-31T00:00:00\",\"2007-02-28T00:00:00\",\"2007-03-30T00:00:00\",\"2007-04-30T00:00:00\",\"2007-05-31T00:00:00\",\"2007-06-29T00:00:00\",\"2007-07-31T00:00:00\",\"2007-08-31T00:00:00\",\"2007-09-28T00:00:00\",\"2007-10-31T00:00:00\",\"2007-11-30T00:00:00\",\"2007-12-31T00:00:00\",\"2008-01-31T00:00:00\",\"2008-02-29T00:00:00\",\"2008-03-31T00:00:00\",\"2008-04-30T00:00:00\",\"2008-05-30T00:00:00\",\"2008-06-30T00:00:00\",\"2008-07-31T00:00:00\",\"2008-08-29T00:00:00\",\"2008-09-30T00:00:00\",\"2008-10-31T00:00:00\",\"2008-11-28T00:00:00\",\"2008-12-31T00:00:00\",\"2009-01-30T00:00:00\",\"2009-02-27T00:00:00\",\"2009-03-31T00:00:00\",\"2009-04-30T00:00:00\",\"2009-05-29T00:00:00\",\"2009-06-30T00:00:00\",\"2009-07-31T00:00:00\",\"2009-08-31T00:00:00\",\"2009-09-30T00:00:00\",\"2009-10-30T00:00:00\",\"2009-11-30T00:00:00\",\"2009-12-31T00:00:00\",\"2010-01-29T00:00:00\",\"2010-02-26T00:00:00\",\"2010-03-31T00:00:00\",\"2010-04-30T00:00:00\",\"2010-05-31T00:00:00\",\"2010-06-30T00:00:00\",\"2010-07-30T00:00:00\",\"2010-08-31T00:00:00\",\"2010-09-30T00:00:00\",\"2010-10-29T00:00:00\",\"2010-11-30T00:00:00\",\"2010-12-31T00:00:00\",\"2011-01-31T00:00:00\",\"2011-02-28T00:00:00\",\"2011-03-31T00:00:00\",\"2011-04-29T00:00:00\",\"2011-05-31T00:00:00\",\"2011-06-30T00:00:00\",\"2011-07-29T00:00:00\",\"2011-08-31T00:00:00\",\"2011-09-30T00:00:00\",\"2011-10-31T00:00:00\",\"2011-11-30T00:00:00\",\"2011-12-30T00:00:00\",\"2012-01-31T00:00:00\",\"2012-02-29T00:00:00\",\"2012-03-30T00:00:00\",\"2012-04-30T00:00:00\",\"2012-05-31T00:00:00\",\"2012-06-29T00:00:00\",\"2012-07-31T00:00:00\",\"2012-08-31T00:00:00\",\"2012-09-28T00:00:00\",\"2012-10-31T00:00:00\",\"2012-11-30T00:00:00\",\"2012-12-31T00:00:00\",\"2013-01-31T00:00:00\",\"2013-02-28T00:00:00\",\"2013-03-29T00:00:00\",\"2013-04-30T00:00:00\",\"2013-05-31T00:00:00\",\"2013-06-28T00:00:00\",\"2013-07-31T00:00:00\",\"2013-08-30T00:00:00\",\"2013-09-30T00:00:00\",\"2013-10-31T00:00:00\",\"2013-11-29T00:00:00\",\"2013-12-31T00:00:00\",\"2014-01-31T00:00:00\",\"2014-02-28T00:00:00\",\"2014-03-31T00:00:00\",\"2014-04-30T00:00:00\",\"2014-05-30T00:00:00\",\"2014-06-30T00:00:00\",\"2014-07-31T00:00:00\",\"2014-08-29T00:00:00\",\"2014-09-30T00:00:00\",\"2014-10-31T00:00:00\",\"2014-11-28T00:00:00\",\"2014-12-31T00:00:00\",\"2015-01-30T00:00:00\",\"2015-02-27T00:00:00\",\"2015-03-31T00:00:00\",\"2015-04-30T00:00:00\",\"2015-05-29T00:00:00\",\"2015-06-30T00:00:00\",\"2015-07-31T00:00:00\",\"2015-08-31T00:00:00\",\"2015-09-30T00:00:00\",\"2015-10-30T00:00:00\",\"2015-11-30T00:00:00\",\"2015-12-31T00:00:00\",\"2016-01-29T00:00:00\",\"2016-02-29T00:00:00\",\"2016-03-31T00:00:00\",\"2016-04-29T00:00:00\",\"2016-05-31T00:00:00\",\"2016-06-30T00:00:00\",\"2016-07-29T00:00:00\",\"2016-08-31T00:00:00\",\"2016-09-30T00:00:00\",\"2016-10-31T00:00:00\",\"2016-11-30T00:00:00\",\"2016-12-30T00:00:00\",\"2017-01-31T00:00:00\",\"2017-02-28T00:00:00\",\"2017-03-31T00:00:00\",\"2017-04-28T00:00:00\",\"2017-05-31T00:00:00\",\"2017-06-30T00:00:00\",\"2017-07-31T00:00:00\",\"2017-08-31T00:00:00\",\"2017-09-29T00:00:00\",\"2017-10-31T00:00:00\",\"2017-11-30T00:00:00\",\"2017-12-29T00:00:00\",\"2018-01-31T00:00:00\",\"2018-02-28T00:00:00\",\"2018-03-30T00:00:00\",\"2018-04-30T00:00:00\",\"2018-05-31T00:00:00\",\"2018-06-29T00:00:00\",\"2018-07-31T00:00:00\",\"2018-08-31T00:00:00\",\"2018-09-28T00:00:00\",\"2018-10-31T00:00:00\",\"2018-11-30T00:00:00\",\"2018-12-31T00:00:00\",\"2019-01-31T00:00:00\",\"2019-02-28T00:00:00\",\"2019-03-29T00:00:00\",\"2019-04-30T00:00:00\",\"2019-05-31T00:00:00\",\"2019-06-28T00:00:00\",\"2019-07-31T00:00:00\",\"2019-08-30T00:00:00\",\"2019-09-30T00:00:00\",\"2019-10-31T00:00:00\",\"2019-11-29T00:00:00\",\"2019-12-31T00:00:00\",\"2020-01-31T00:00:00\",\"2020-02-28T00:00:00\",\"2020-03-31T00:00:00\",\"2020-04-30T00:00:00\",\"2020-05-29T00:00:00\",\"2020-06-30T00:00:00\",\"2020-07-31T00:00:00\",\"2020-08-31T00:00:00\",\"2020-09-30T00:00:00\",\"2020-10-30T00:00:00\",\"2020-11-30T00:00:00\",\"2020-12-31T00:00:00\",\"2021-01-29T00:00:00\",\"2021-02-26T00:00:00\",\"2021-03-31T00:00:00\",\"2021-04-30T00:00:00\",\"2021-05-31T00:00:00\",\"2021-06-30T00:00:00\",\"2021-07-30T00:00:00\",\"2021-08-31T00:00:00\"],\"y\":[1.0,1.0,1.0,1.0,1.0,1.0,1.0,1.0,1.0,1.0,1.0,1.0,1.0,1.0,1.0,1.0,1.0,1.0,1.0,1.0,1.0,1.0,1.0,1.0,1.0,1.0,1.0,1.0,1.0,1.0,1.0,1.0,1.0,1.0,1.0,1.0,1.0,0.9645291214733567,0.911115268490322,0.9072810347266397,1.0249044516944004,1.0456947882361085,1.0680302838205111,1.134077382252091,1.1691527115641915,1.154108177833485,1.2198811316467195,1.2371437547507698,1.2911647208460355,1.357481742794312,1.3627511493213431,1.3490609420870876,1.3875899644036016,1.378037934774969,1.406535893838513,1.389134331402976,1.3848346404944067,1.4142618546997536,1.3884809414975734,1.3997213258854793,1.453465452359754,1.502903883711079,1.539351887639465,1.54577908098967,1.512016877630843,1.5716029867834929,1.601722576343862,1.6788785778997095,1.6954279107578238,1.7718898258428,1.7612107214055674,1.8698434794268488,1.952880161047166,2.0384412115882458,2.0881069896005817,2.158435853392665,2.227011549080384,2.0948767071961827,2.1086343896984596,2.1583677429179398,2.226768397280134,2.305818948992422,2.3890642026773663,2.427825767494174,2.5581416150224405,2.6723685207721366,2.6001320145252693,2.653298634082839,2.846826324691991,2.911799931792591,2.8509966086437144,2.7700634688818875,2.7545844191095616,2.755673996784712,2.8301194551424866,2.6912184898354687,2.6463472331032167,2.415738487969155,2.4160763052894345,2.320391433568195,2.4948565857053757,2.4930405276018934,2.2547775379314317,2.2578778604183047,2.3091737095865144,2.0850369206586428,1.816020714033841,1.6751028278384477,1.6563086311260404,1.569201045141147,1.3807935591136604,1.4934068373123945,1.7786608806817399,1.8526398427325106,1.881465729760388,2.038072215366115,2.152680555190923,2.218623790938011,2.153216915446608,2.1755525855384477,2.2585019960564066,2.268831337184555,2.3462217205628866,2.4726401285995747,2.43262984945553,2.3398475871275517,2.292482938219556,2.3754234853886347,2.350232042356702,2.437334642369295,2.513354520443592,2.4782482447187943,2.5329336029237357,2.512352902601358,2.564597719260823,2.5515311475584377,2.652539914566355,2.6422161966887936,2.4986803309705383,2.3672529034784096,2.1955230147075278,2.1513239150527967,2.297792438697214,2.2486081257384534,2.2977633597653258,2.3581137840136748,2.4267652341397628,2.483537343265915,2.4449157566486215,2.3129301156031774,2.398151226305014,2.5097979892416777,2.5569404681674097,2.621294140994499,2.6905237881258763,2.799183238445771,2.8498526574014407,3.0613623575216455,3.2104159494274005,3.278890695876879,3.3770317957536453,3.479707232742933,3.373199721242119,3.490942087655605,3.418084902749388,3.550308361282846,3.6879547690255228,3.6875614207168317,3.71106832213645,3.6993938476143695,3.8881483288940375,3.945740602862874,4.006104976259552,4.082958578868364,4.033117162888607,3.9397186288992145,4.0525687439367175,4.070126672385072,4.103853994600585,4.289196138341225,4.20329954363903,3.864153716559358,4.2317159911591755,4.351165273976861,4.352958424228038,4.3690338286150405,4.189777364612101,4.526724846056177,4.209857568669069,4.048550807046196,4.373124954233185,4.467869258031477,4.379216103675176,4.205407107874532,4.026491677649221,4.130414826528406,4.258993823205444,4.352819059917283,4.151764070156886,4.274294848613,4.435152594213274,4.4818507352482735,4.497514903197506,4.5353236841513045,4.648432320416948,4.7457673452292655,4.840359479446313,4.988754089711573,5.217386683074168,5.291596688458696,5.242118191598362,5.4367092984019605,5.373819582256272,5.596171636318433,5.7236298858027075,5.666263144801338,5.78310211162911,5.8623507328958055,5.6448541008081605,5.5843645718618165,5.832484765260586,5.683629619621889,5.733355402518521,6.005999187104862,5.865016385844711,5.97680179903283,5.7258322324400295,5.602793786826059,5.250347377456092,5.582360254748862,5.824541666151128,5.867222063944792,6.270234178310659,6.034729733204157,6.328200914572239,6.310173138657794,6.2171707423214775,6.374756416578629,6.577087063437486,6.771898872445543,6.876146540213621,6.809343479382175,6.270351741526861,5.663492436319848,5.956089627628706,6.12256483670643,6.4304108560839515,6.525970580665691,6.666466245840417,6.679822794692554,6.32244742315492,7.221160998090889,7.383787161959925,7.391809495571676,7.528786007435122,7.937085458899586,8.060905187485954,8.456780348657334,8.707626953715657,8.899690216579321,9.007435772175741],\"type\":\"scatter\"}],                        {\"template\":{\"data\":{\"histogram2dcontour\":[{\"type\":\"histogram2dcontour\",\"colorbar\":{\"outlinewidth\":0,\"ticks\":\"\"},\"colorscale\":[[0.0,\"#0d0887\"],[0.1111111111111111,\"#46039f\"],[0.2222222222222222,\"#7201a8\"],[0.3333333333333333,\"#9c179e\"],[0.4444444444444444,\"#bd3786\"],[0.5555555555555556,\"#d8576b\"],[0.6666666666666666,\"#ed7953\"],[0.7777777777777778,\"#fb9f3a\"],[0.8888888888888888,\"#fdca26\"],[1.0,\"#f0f921\"]]}],\"choropleth\":[{\"type\":\"choropleth\",\"colorbar\":{\"outlinewidth\":0,\"ticks\":\"\"}}],\"histogram2d\":[{\"type\":\"histogram2d\",\"colorbar\":{\"outlinewidth\":0,\"ticks\":\"\"},\"colorscale\":[[0.0,\"#0d0887\"],[0.1111111111111111,\"#46039f\"],[0.2222222222222222,\"#7201a8\"],[0.3333333333333333,\"#9c179e\"],[0.4444444444444444,\"#bd3786\"],[0.5555555555555556,\"#d8576b\"],[0.6666666666666666,\"#ed7953\"],[0.7777777777777778,\"#fb9f3a\"],[0.8888888888888888,\"#fdca26\"],[1.0,\"#f0f921\"]]}],\"heatmap\":[{\"type\":\"heatmap\",\"colorbar\":{\"outlinewidth\":0,\"ticks\":\"\"},\"colorscale\":[[0.0,\"#0d0887\"],[0.1111111111111111,\"#46039f\"],[0.2222222222222222,\"#7201a8\"],[0.3333333333333333,\"#9c179e\"],[0.4444444444444444,\"#bd3786\"],[0.5555555555555556,\"#d8576b\"],[0.6666666666666666,\"#ed7953\"],[0.7777777777777778,\"#fb9f3a\"],[0.8888888888888888,\"#fdca26\"],[1.0,\"#f0f921\"]]}],\"heatmapgl\":[{\"type\":\"heatmapgl\",\"colorbar\":{\"outlinewidth\":0,\"ticks\":\"\"},\"colorscale\":[[0.0,\"#0d0887\"],[0.1111111111111111,\"#46039f\"],[0.2222222222222222,\"#7201a8\"],[0.3333333333333333,\"#9c179e\"],[0.4444444444444444,\"#bd3786\"],[0.5555555555555556,\"#d8576b\"],[0.6666666666666666,\"#ed7953\"],[0.7777777777777778,\"#fb9f3a\"],[0.8888888888888888,\"#fdca26\"],[1.0,\"#f0f921\"]]}],\"contourcarpet\":[{\"type\":\"contourcarpet\",\"colorbar\":{\"outlinewidth\":0,\"ticks\":\"\"}}],\"contour\":[{\"type\":\"contour\",\"colorbar\":{\"outlinewidth\":0,\"ticks\":\"\"},\"colorscale\":[[0.0,\"#0d0887\"],[0.1111111111111111,\"#46039f\"],[0.2222222222222222,\"#7201a8\"],[0.3333333333333333,\"#9c179e\"],[0.4444444444444444,\"#bd3786\"],[0.5555555555555556,\"#d8576b\"],[0.6666666666666666,\"#ed7953\"],[0.7777777777777778,\"#fb9f3a\"],[0.8888888888888888,\"#fdca26\"],[1.0,\"#f0f921\"]]}],\"surface\":[{\"type\":\"surface\",\"colorbar\":{\"outlinewidth\":0,\"ticks\":\"\"},\"colorscale\":[[0.0,\"#0d0887\"],[0.1111111111111111,\"#46039f\"],[0.2222222222222222,\"#7201a8\"],[0.3333333333333333,\"#9c179e\"],[0.4444444444444444,\"#bd3786\"],[0.5555555555555556,\"#d8576b\"],[0.6666666666666666,\"#ed7953\"],[0.7777777777777778,\"#fb9f3a\"],[0.8888888888888888,\"#fdca26\"],[1.0,\"#f0f921\"]]}],\"mesh3d\":[{\"type\":\"mesh3d\",\"colorbar\":{\"outlinewidth\":0,\"ticks\":\"\"}}],\"scatter\":[{\"fillpattern\":{\"fillmode\":\"overlay\",\"size\":10,\"solidity\":0.2},\"type\":\"scatter\"}],\"parcoords\":[{\"type\":\"parcoords\",\"line\":{\"colorbar\":{\"outlinewidth\":0,\"ticks\":\"\"}}}],\"scatterpolargl\":[{\"type\":\"scatterpolargl\",\"marker\":{\"colorbar\":{\"outlinewidth\":0,\"ticks\":\"\"}}}],\"bar\":[{\"error_x\":{\"color\":\"#2a3f5f\"},\"error_y\":{\"color\":\"#2a3f5f\"},\"marker\":{\"line\":{\"color\":\"#E5ECF6\",\"width\":0.5},\"pattern\":{\"fillmode\":\"overlay\",\"size\":10,\"solidity\":0.2}},\"type\":\"bar\"}],\"scattergeo\":[{\"type\":\"scattergeo\",\"marker\":{\"colorbar\":{\"outlinewidth\":0,\"ticks\":\"\"}}}],\"scatterpolar\":[{\"type\":\"scatterpolar\",\"marker\":{\"colorbar\":{\"outlinewidth\":0,\"ticks\":\"\"}}}],\"histogram\":[{\"marker\":{\"pattern\":{\"fillmode\":\"overlay\",\"size\":10,\"solidity\":0.2}},\"type\":\"histogram\"}],\"scattergl\":[{\"type\":\"scattergl\",\"marker\":{\"colorbar\":{\"outlinewidth\":0,\"ticks\":\"\"}}}],\"scatter3d\":[{\"type\":\"scatter3d\",\"line\":{\"colorbar\":{\"outlinewidth\":0,\"ticks\":\"\"}},\"marker\":{\"colorbar\":{\"outlinewidth\":0,\"ticks\":\"\"}}}],\"scattermapbox\":[{\"type\":\"scattermapbox\",\"marker\":{\"colorbar\":{\"outlinewidth\":0,\"ticks\":\"\"}}}],\"scatterternary\":[{\"type\":\"scatterternary\",\"marker\":{\"colorbar\":{\"outlinewidth\":0,\"ticks\":\"\"}}}],\"scattercarpet\":[{\"type\":\"scattercarpet\",\"marker\":{\"colorbar\":{\"outlinewidth\":0,\"ticks\":\"\"}}}],\"carpet\":[{\"aaxis\":{\"endlinecolor\":\"#2a3f5f\",\"gridcolor\":\"white\",\"linecolor\":\"white\",\"minorgridcolor\":\"white\",\"startlinecolor\":\"#2a3f5f\"},\"baxis\":{\"endlinecolor\":\"#2a3f5f\",\"gridcolor\":\"white\",\"linecolor\":\"white\",\"minorgridcolor\":\"white\",\"startlinecolor\":\"#2a3f5f\"},\"type\":\"carpet\"}],\"table\":[{\"cells\":{\"fill\":{\"color\":\"#EBF0F8\"},\"line\":{\"color\":\"white\"}},\"header\":{\"fill\":{\"color\":\"#C8D4E3\"},\"line\":{\"color\":\"white\"}},\"type\":\"table\"}],\"barpolar\":[{\"marker\":{\"line\":{\"color\":\"#E5ECF6\",\"width\":0.5},\"pattern\":{\"fillmode\":\"overlay\",\"size\":10,\"solidity\":0.2}},\"type\":\"barpolar\"}],\"pie\":[{\"automargin\":true,\"type\":\"pie\"}]},\"layout\":{\"autotypenumbers\":\"strict\",\"colorway\":[\"#636efa\",\"#EF553B\",\"#00cc96\",\"#ab63fa\",\"#FFA15A\",\"#19d3f3\",\"#FF6692\",\"#B6E880\",\"#FF97FF\",\"#FECB52\"],\"font\":{\"color\":\"#2a3f5f\"},\"hovermode\":\"closest\",\"hoverlabel\":{\"align\":\"left\"},\"paper_bgcolor\":\"white\",\"plot_bgcolor\":\"#E5ECF6\",\"polar\":{\"bgcolor\":\"#E5ECF6\",\"angularaxis\":{\"gridcolor\":\"white\",\"linecolor\":\"white\",\"ticks\":\"\"},\"radialaxis\":{\"gridcolor\":\"white\",\"linecolor\":\"white\",\"ticks\":\"\"}},\"ternary\":{\"bgcolor\":\"#E5ECF6\",\"aaxis\":{\"gridcolor\":\"white\",\"linecolor\":\"white\",\"ticks\":\"\"},\"baxis\":{\"gridcolor\":\"white\",\"linecolor\":\"white\",\"ticks\":\"\"},\"caxis\":{\"gridcolor\":\"white\",\"linecolor\":\"white\",\"ticks\":\"\"}},\"coloraxis\":{\"colorbar\":{\"outlinewidth\":0,\"ticks\":\"\"}},\"colorscale\":{\"sequential\":[[0.0,\"#0d0887\"],[0.1111111111111111,\"#46039f\"],[0.2222222222222222,\"#7201a8\"],[0.3333333333333333,\"#9c179e\"],[0.4444444444444444,\"#bd3786\"],[0.5555555555555556,\"#d8576b\"],[0.6666666666666666,\"#ed7953\"],[0.7777777777777778,\"#fb9f3a\"],[0.8888888888888888,\"#fdca26\"],[1.0,\"#f0f921\"]],\"sequentialminus\":[[0.0,\"#0d0887\"],[0.1111111111111111,\"#46039f\"],[0.2222222222222222,\"#7201a8\"],[0.3333333333333333,\"#9c179e\"],[0.4444444444444444,\"#bd3786\"],[0.5555555555555556,\"#d8576b\"],[0.6666666666666666,\"#ed7953\"],[0.7777777777777778,\"#fb9f3a\"],[0.8888888888888888,\"#fdca26\"],[1.0,\"#f0f921\"]],\"diverging\":[[0,\"#8e0152\"],[0.1,\"#c51b7d\"],[0.2,\"#de77ae\"],[0.3,\"#f1b6da\"],[0.4,\"#fde0ef\"],[0.5,\"#f7f7f7\"],[0.6,\"#e6f5d0\"],[0.7,\"#b8e186\"],[0.8,\"#7fbc41\"],[0.9,\"#4d9221\"],[1,\"#276419\"]]},\"xaxis\":{\"gridcolor\":\"white\",\"linecolor\":\"white\",\"ticks\":\"\",\"title\":{\"standoff\":15},\"zerolinecolor\":\"white\",\"automargin\":true,\"zerolinewidth\":2},\"yaxis\":{\"gridcolor\":\"white\",\"linecolor\":\"white\",\"ticks\":\"\",\"title\":{\"standoff\":15},\"zerolinecolor\":\"white\",\"automargin\":true,\"zerolinewidth\":2},\"scene\":{\"xaxis\":{\"backgroundcolor\":\"#E5ECF6\",\"gridcolor\":\"white\",\"linecolor\":\"white\",\"showbackground\":true,\"ticks\":\"\",\"zerolinecolor\":\"white\",\"gridwidth\":2},\"yaxis\":{\"backgroundcolor\":\"#E5ECF6\",\"gridcolor\":\"white\",\"linecolor\":\"white\",\"showbackground\":true,\"ticks\":\"\",\"zerolinecolor\":\"white\",\"gridwidth\":2},\"zaxis\":{\"backgroundcolor\":\"#E5ECF6\",\"gridcolor\":\"white\",\"linecolor\":\"white\",\"showbackground\":true,\"ticks\":\"\",\"zerolinecolor\":\"white\",\"gridwidth\":2}},\"shapedefaults\":{\"line\":{\"color\":\"#2a3f5f\"}},\"annotationdefaults\":{\"arrowcolor\":\"#2a3f5f\",\"arrowhead\":0,\"arrowwidth\":1},\"geo\":{\"bgcolor\":\"white\",\"landcolor\":\"#E5ECF6\",\"subunitcolor\":\"white\",\"showland\":true,\"showlakes\":true,\"lakecolor\":\"white\"},\"title\":{\"x\":0.05},\"mapbox\":{\"style\":\"light\"}}}},                        {\"responsive\": true}                    ).then(function(){\n",
              "                            \n",
              "var gd = document.getElementById('8ff21c07-5970-49fb-9ee5-80150f5e4a9f');\n",
              "var x = new MutationObserver(function (mutations, observer) {{\n",
              "        var display = window.getComputedStyle(gd).display;\n",
              "        if (!display || display === 'none') {{\n",
              "            console.log([gd, 'removed!']);\n",
              "            Plotly.purge(gd);\n",
              "            observer.disconnect();\n",
              "        }}\n",
              "}});\n",
              "\n",
              "// Listen for the removal of the full notebook cells\n",
              "var notebookContainer = gd.closest('#notebook-container');\n",
              "if (notebookContainer) {{\n",
              "    x.observe(notebookContainer, {childList: true});\n",
              "}}\n",
              "\n",
              "// Listen for the clearing of the current output cell\n",
              "var outputEl = gd.closest('.output');\n",
              "if (outputEl) {{\n",
              "    x.observe(outputEl, {childList: true});\n",
              "}}\n",
              "\n",
              "                        })                };                            </script>        </div>\n",
              "</body>\n",
              "</html>"
            ]
          },
          "metadata": {}
        }
      ]
    },
    {
      "cell_type": "code",
      "source": [
        "index_df_rebased = index_df/index_df.loc[\"Dec 2002\"].values\n",
        "index_df_rebased = index_df_rebased.loc[\"Dec 2002\":]\n",
        "rf = rf.loc[\"Dec 2002\":\"Aug 2021\"]\n",
        "\n",
        "returns = index_df_rebased.pct_change()\n",
        "\n",
        "cagr = (index_df_rebased.iloc[-1]/index_df_rebased.iloc[0])**(12/len(index_df_rebased))-1\n",
        "\n",
        "stats = pd.DataFrame(cagr, columns=[\"CAGR\"]) \n",
        "stats['Volatility'] = returns.std()*(12**0.5)\n",
        "stats['Excess Return'] = returns.sub(rf, axis = 0).mean()*12\n",
        "stats['Sharpe Ratio'] = stats['Excess Return'] / stats['Volatility']\n",
        "stats['Tracking Error'] = returns.sub(returns['Official SMI'], axis = 0).std()*(12**0.5)\n",
        "stats['Information Ratio'] = returns.sub(returns['Official SMI'], axis = 0).mean()*12/stats['Tracking Error']\n",
        "maxdd = index_df/np.maximum.accumulate(index_df)-1\n",
        "stats['Maximum Drawdown'] = maxdd.min()\n",
        "stats['Sterling Ratio'] = stats['Excess Return'] / stats['Maximum Drawdown']\n",
        "\n",
        "stats.style.format({\n",
        "    \"CAGR\": '{:,.2%}'.format,\n",
        "    \"Volatility\": '{:,.2%}'.format,\n",
        "    \"Excess Return\": '{:,.2%}'.format,\n",
        "    \"Sharpe Ratio\": '{:,.2f}'.format,\n",
        "    \"Tracking Error\": '{:,.2%}'.format,\n",
        "    \"Information Ratio\": '{:,.2f}'.format,\n",
        "    \"Maximum Drawdown\": '{:,.2%}'.format,\n",
        "    \"Sterling Ratio\": '{:,.2f}'.format\n",
        "})"
      ],
      "metadata": {
        "colab": {
          "base_uri": "https://localhost:8080/",
          "height": 206
        },
        "id": "8isCKmy_f5oX",
        "outputId": "a9de97d8-504e-4ade-82e7-240376236e84"
      },
      "execution_count": 19,
      "outputs": [
        {
          "output_type": "execute_result",
          "data": {
            "text/plain": [
              "<pandas.io.formats.style.Styler at 0x7f21c0993b50>"
            ],
            "text/html": [
              "<style type=\"text/css\">\n",
              "</style>\n",
              "<table id=\"T_f6f17\" class=\"dataframe\">\n",
              "  <thead>\n",
              "    <tr>\n",
              "      <th class=\"blank level0\" >&nbsp;</th>\n",
              "      <th id=\"T_f6f17_level0_col0\" class=\"col_heading level0 col0\" >CAGR</th>\n",
              "      <th id=\"T_f6f17_level0_col1\" class=\"col_heading level0 col1\" >Volatility</th>\n",
              "      <th id=\"T_f6f17_level0_col2\" class=\"col_heading level0 col2\" >Excess Return</th>\n",
              "      <th id=\"T_f6f17_level0_col3\" class=\"col_heading level0 col3\" >Sharpe Ratio</th>\n",
              "      <th id=\"T_f6f17_level0_col4\" class=\"col_heading level0 col4\" >Tracking Error</th>\n",
              "      <th id=\"T_f6f17_level0_col5\" class=\"col_heading level0 col5\" >Information Ratio</th>\n",
              "      <th id=\"T_f6f17_level0_col6\" class=\"col_heading level0 col6\" >Maximum Drawdown</th>\n",
              "      <th id=\"T_f6f17_level0_col7\" class=\"col_heading level0 col7\" >Sterling Ratio</th>\n",
              "    </tr>\n",
              "  </thead>\n",
              "  <tbody>\n",
              "    <tr>\n",
              "      <th id=\"T_f6f17_level0_row0\" class=\"row_heading level0 row0\" >Official SMI</th>\n",
              "      <td id=\"T_f6f17_row0_col0\" class=\"data row0 col0\" >8.50%</td>\n",
              "      <td id=\"T_f6f17_row0_col1\" class=\"data row0 col1\" >12.62%</td>\n",
              "      <td id=\"T_f6f17_row0_col2\" class=\"data row0 col2\" >8.89%</td>\n",
              "      <td id=\"T_f6f17_row0_col3\" class=\"data row0 col3\" >0.70</td>\n",
              "      <td id=\"T_f6f17_row0_col4\" class=\"data row0 col4\" >0.00%</td>\n",
              "      <td id=\"T_f6f17_row0_col5\" class=\"data row0 col5\" >nan</td>\n",
              "      <td id=\"T_f6f17_row0_col6\" class=\"data row0 col6\" >-48.47%</td>\n",
              "      <td id=\"T_f6f17_row0_col7\" class=\"data row0 col7\" >-0.18</td>\n",
              "    </tr>\n",
              "    <tr>\n",
              "      <th id=\"T_f6f17_level0_row1\" class=\"row_heading level0 row1\" >Equal Weighted</th>\n",
              "      <td id=\"T_f6f17_row1_col0\" class=\"data row1 col0\" >13.23%</td>\n",
              "      <td id=\"T_f6f17_row1_col1\" class=\"data row1 col1\" >15.37%</td>\n",
              "      <td id=\"T_f6f17_row1_col2\" class=\"data row1 col2\" >13.58%</td>\n",
              "      <td id=\"T_f6f17_row1_col3\" class=\"data row1 col3\" >0.88</td>\n",
              "      <td id=\"T_f6f17_row1_col4\" class=\"data row1 col4\" >6.51%</td>\n",
              "      <td id=\"T_f6f17_row1_col5\" class=\"data row1 col5\" >0.72</td>\n",
              "      <td id=\"T_f6f17_row1_col6\" class=\"data row1 col6\" >-52.86%</td>\n",
              "      <td id=\"T_f6f17_row1_col7\" class=\"data row1 col7\" >-0.26</td>\n",
              "    </tr>\n",
              "    <tr>\n",
              "      <th id=\"T_f6f17_level0_row2\" class=\"row_heading level0 row2\" >Min Variance</th>\n",
              "      <td id=\"T_f6f17_row2_col0\" class=\"data row2 col0\" >10.44%</td>\n",
              "      <td id=\"T_f6f17_row2_col1\" class=\"data row2 col1\" >10.70%</td>\n",
              "      <td id=\"T_f6f17_row2_col2\" class=\"data row2 col2\" >10.46%</td>\n",
              "      <td id=\"T_f6f17_row2_col3\" class=\"data row2 col3\" >0.98</td>\n",
              "      <td id=\"T_f6f17_row2_col4\" class=\"data row2 col4\" >7.01%</td>\n",
              "      <td id=\"T_f6f17_row2_col5\" class=\"data row2 col5\" >0.22</td>\n",
              "      <td id=\"T_f6f17_row2_col6\" class=\"data row2 col6\" >-33.64%</td>\n",
              "      <td id=\"T_f6f17_row2_col7\" class=\"data row2 col7\" >-0.31</td>\n",
              "    </tr>\n",
              "    <tr>\n",
              "      <th id=\"T_f6f17_level0_row3\" class=\"row_heading level0 row3\" >Max Diversification</th>\n",
              "      <td id=\"T_f6f17_row3_col0\" class=\"data row3 col0\" >12.59%</td>\n",
              "      <td id=\"T_f6f17_row3_col1\" class=\"data row3 col1\" >18.14%</td>\n",
              "      <td id=\"T_f6f17_row3_col2\" class=\"data row3 col2\" >13.50%</td>\n",
              "      <td id=\"T_f6f17_row3_col3\" class=\"data row3 col3\" >0.74</td>\n",
              "      <td id=\"T_f6f17_row3_col4\" class=\"data row3 col4\" >11.57%</td>\n",
              "      <td id=\"T_f6f17_row3_col5\" class=\"data row3 col5\" >0.40</td>\n",
              "      <td id=\"T_f6f17_row3_col6\" class=\"data row3 col6\" >-61.31%</td>\n",
              "      <td id=\"T_f6f17_row3_col7\" class=\"data row3 col7\" >-0.22</td>\n",
              "    </tr>\n",
              "    <tr>\n",
              "      <th id=\"T_f6f17_level0_row4\" class=\"row_heading level0 row4\" >Equal Risk Contribution</th>\n",
              "      <td id=\"T_f6f17_row4_col0\" class=\"data row4 col0\" >12.44%</td>\n",
              "      <td id=\"T_f6f17_row4_col1\" class=\"data row4 col1\" >14.60%</td>\n",
              "      <td id=\"T_f6f17_row4_col2\" class=\"data row4 col2\" >12.76%</td>\n",
              "      <td id=\"T_f6f17_row4_col3\" class=\"data row4 col3\" >0.87</td>\n",
              "      <td id=\"T_f6f17_row4_col4\" class=\"data row4 col4\" >6.00%</td>\n",
              "      <td id=\"T_f6f17_row4_col5\" class=\"data row4 col5\" >0.64</td>\n",
              "      <td id=\"T_f6f17_row4_col6\" class=\"data row4 col6\" >-52.58%</td>\n",
              "      <td id=\"T_f6f17_row4_col7\" class=\"data row4 col7\" >-0.24</td>\n",
              "    </tr>\n",
              "  </tbody>\n",
              "</table>\n"
            ]
          },
          "metadata": {},
          "execution_count": 19
        }
      ]
    },
    {
      "cell_type": "code",
      "source": [],
      "metadata": {
        "id": "ztjjnXOAf9A1"
      },
      "execution_count": null,
      "outputs": []
    }
  ]
}